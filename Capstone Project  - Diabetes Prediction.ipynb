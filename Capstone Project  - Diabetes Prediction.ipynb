{
 "cells": [
  {
   "attachments": {},
   "cell_type": "markdown",
   "id": "7f04d5b8",
   "metadata": {},
   "source": [
    "## Capstone Project  - \n",
    "\n",
    "### Build a model to accurately predict whether the patients have diabetes or not"
   ]
  },
  {
   "cell_type": "code",
   "execution_count": 1,
   "id": "efd45919",
   "metadata": {},
   "outputs": [],
   "source": [
    "# To perform various tasks, we have to import some important python libraries\n",
    "# Numpy is for Numerical Python, Pandas for handling large data sets / Dataframe \n",
    "import pandas as pd\n",
    "import numpy as np\n",
    "\n",
    "# To avoid unnecessary warnings\n",
    "import warnings\n",
    "warnings.filterwarnings('ignore')\n",
    "\n",
    "# import plotting libraries\n",
    "import matplotlib\n",
    "import matplotlib.pyplot as plt\n",
    "%matplotlib inline \n",
    "\n",
    "import seaborn as sns\n",
    "sns.set(style=\"white\", color_codes=True)\n",
    "sns.set(font_scale=1.5)\n",
    "\n",
    "from jupyterthemes import jtplot\n",
    "jtplot.style(theme='monokai')\n",
    "\n",
    "# import libraries for model validation\n",
    "from sklearn.linear_model import LogisticRegression\n",
    "from sklearn.model_selection import train_test_split\n",
    "from sklearn.ensemble import RandomForestClassifier\n",
    "\n",
    "# import libraries for metrics and reporting\n",
    "from sklearn import metrics\n",
    "from sklearn.metrics import confusion_matrix\n",
    "from sklearn.metrics import classification_report,ConfusionMatrixDisplay\n",
    "from sklearn.metrics import accuracy_score\n",
    "from sklearn.metrics import precision_score\n",
    "from sklearn.metrics import recall_score\n",
    "from sklearn.metrics import f1_score\n"
   ]
  },
  {
   "cell_type": "markdown",
   "id": "fa271437",
   "metadata": {},
   "source": [
    "## Dataset description:\n",
    "\n",
    "\n",
    "### Variables with Description\n",
    "Pregnancies: Number of times pregnant\n",
    "\n",
    "Glucose: Plasma glucose concentration a 2 hours in an oral glucose tolerance test\n",
    "\n",
    "BloodPressure: Diastolic blood pressure (mm Hg)\n",
    "\n",
    "SkinThickness: Triceps skin fold thickness (mm)\n",
    "\n",
    "Insulin: 2-Hour serum insulin (mu U/ml)\n",
    "\n",
    "BMI: Body mass index (weight in kg/(height in m)^2)\n",
    "\n",
    "DiabetesPedigreeFunction: Diabetes pedigree function\n",
    "\n",
    "Age: Age (years)\n",
    "\n",
    "Outcome: Class variable (0 or 1) 268 of 768 are 1, the others are 0\n"
   ]
  },
  {
   "cell_type": "code",
   "execution_count": 2,
   "id": "fb4f5019",
   "metadata": {},
   "outputs": [],
   "source": [
    "# Read the csv file\n",
    "diabetes = pd.read_csv(\"D:/Software/DATA SCIENCE/All Courses/Capstone Projects/Data-Science-Capstone-Projects-master/Project 2/Healthcare - Diabetes/health_care_diabetes.csv\")"
   ]
  },
  {
   "cell_type": "code",
   "execution_count": 3,
   "id": "33c71bdf",
   "metadata": {},
   "outputs": [
    {
     "name": "stdout",
     "output_type": "stream",
     "text": [
      "<class 'pandas.core.frame.DataFrame'>\n",
      "RangeIndex: 768 entries, 0 to 767\n",
      "Data columns (total 9 columns):\n",
      " #   Column                    Non-Null Count  Dtype  \n",
      "---  ------                    --------------  -----  \n",
      " 0   Pregnancies               768 non-null    int64  \n",
      " 1   Glucose                   768 non-null    int64  \n",
      " 2   BloodPressure             768 non-null    int64  \n",
      " 3   SkinThickness             768 non-null    int64  \n",
      " 4   Insulin                   768 non-null    int64  \n",
      " 5   BMI                       768 non-null    float64\n",
      " 6   DiabetesPedigreeFunction  768 non-null    float64\n",
      " 7   Age                       768 non-null    int64  \n",
      " 8   Outcome                   768 non-null    int64  \n",
      "dtypes: float64(2), int64(7)\n",
      "memory usage: 54.1 KB\n"
     ]
    }
   ],
   "source": [
    "diabetes.info()"
   ]
  },
  {
   "cell_type": "code",
   "execution_count": 4,
   "id": "273c5c30",
   "metadata": {},
   "outputs": [
    {
     "data": {
      "text/html": [
       "<div>\n",
       "<style scoped>\n",
       "    .dataframe tbody tr th:only-of-type {\n",
       "        vertical-align: middle;\n",
       "    }\n",
       "\n",
       "    .dataframe tbody tr th {\n",
       "        vertical-align: top;\n",
       "    }\n",
       "\n",
       "    .dataframe thead th {\n",
       "        text-align: right;\n",
       "    }\n",
       "</style>\n",
       "<table border=\"1\" class=\"dataframe\">\n",
       "  <thead>\n",
       "    <tr style=\"text-align: right;\">\n",
       "      <th></th>\n",
       "      <th>Pregnancies</th>\n",
       "      <th>Glucose</th>\n",
       "      <th>BloodPressure</th>\n",
       "      <th>SkinThickness</th>\n",
       "      <th>Insulin</th>\n",
       "      <th>BMI</th>\n",
       "      <th>DiabetesPedigreeFunction</th>\n",
       "      <th>Age</th>\n",
       "      <th>Outcome</th>\n",
       "    </tr>\n",
       "  </thead>\n",
       "  <tbody>\n",
       "    <tr>\n",
       "      <th>0</th>\n",
       "      <td>6</td>\n",
       "      <td>148</td>\n",
       "      <td>72</td>\n",
       "      <td>35</td>\n",
       "      <td>0</td>\n",
       "      <td>33.6</td>\n",
       "      <td>0.627</td>\n",
       "      <td>50</td>\n",
       "      <td>1</td>\n",
       "    </tr>\n",
       "    <tr>\n",
       "      <th>1</th>\n",
       "      <td>1</td>\n",
       "      <td>85</td>\n",
       "      <td>66</td>\n",
       "      <td>29</td>\n",
       "      <td>0</td>\n",
       "      <td>26.6</td>\n",
       "      <td>0.351</td>\n",
       "      <td>31</td>\n",
       "      <td>0</td>\n",
       "    </tr>\n",
       "    <tr>\n",
       "      <th>2</th>\n",
       "      <td>8</td>\n",
       "      <td>183</td>\n",
       "      <td>64</td>\n",
       "      <td>0</td>\n",
       "      <td>0</td>\n",
       "      <td>23.3</td>\n",
       "      <td>0.672</td>\n",
       "      <td>32</td>\n",
       "      <td>1</td>\n",
       "    </tr>\n",
       "    <tr>\n",
       "      <th>3</th>\n",
       "      <td>1</td>\n",
       "      <td>89</td>\n",
       "      <td>66</td>\n",
       "      <td>23</td>\n",
       "      <td>94</td>\n",
       "      <td>28.1</td>\n",
       "      <td>0.167</td>\n",
       "      <td>21</td>\n",
       "      <td>0</td>\n",
       "    </tr>\n",
       "    <tr>\n",
       "      <th>4</th>\n",
       "      <td>0</td>\n",
       "      <td>137</td>\n",
       "      <td>40</td>\n",
       "      <td>35</td>\n",
       "      <td>168</td>\n",
       "      <td>43.1</td>\n",
       "      <td>2.288</td>\n",
       "      <td>33</td>\n",
       "      <td>1</td>\n",
       "    </tr>\n",
       "    <tr>\n",
       "      <th>5</th>\n",
       "      <td>5</td>\n",
       "      <td>116</td>\n",
       "      <td>74</td>\n",
       "      <td>0</td>\n",
       "      <td>0</td>\n",
       "      <td>25.6</td>\n",
       "      <td>0.201</td>\n",
       "      <td>30</td>\n",
       "      <td>0</td>\n",
       "    </tr>\n",
       "    <tr>\n",
       "      <th>6</th>\n",
       "      <td>3</td>\n",
       "      <td>78</td>\n",
       "      <td>50</td>\n",
       "      <td>32</td>\n",
       "      <td>88</td>\n",
       "      <td>31.0</td>\n",
       "      <td>0.248</td>\n",
       "      <td>26</td>\n",
       "      <td>1</td>\n",
       "    </tr>\n",
       "    <tr>\n",
       "      <th>7</th>\n",
       "      <td>10</td>\n",
       "      <td>115</td>\n",
       "      <td>0</td>\n",
       "      <td>0</td>\n",
       "      <td>0</td>\n",
       "      <td>35.3</td>\n",
       "      <td>0.134</td>\n",
       "      <td>29</td>\n",
       "      <td>0</td>\n",
       "    </tr>\n",
       "    <tr>\n",
       "      <th>8</th>\n",
       "      <td>2</td>\n",
       "      <td>197</td>\n",
       "      <td>70</td>\n",
       "      <td>45</td>\n",
       "      <td>543</td>\n",
       "      <td>30.5</td>\n",
       "      <td>0.158</td>\n",
       "      <td>53</td>\n",
       "      <td>1</td>\n",
       "    </tr>\n",
       "    <tr>\n",
       "      <th>9</th>\n",
       "      <td>8</td>\n",
       "      <td>125</td>\n",
       "      <td>96</td>\n",
       "      <td>0</td>\n",
       "      <td>0</td>\n",
       "      <td>0.0</td>\n",
       "      <td>0.232</td>\n",
       "      <td>54</td>\n",
       "      <td>1</td>\n",
       "    </tr>\n",
       "  </tbody>\n",
       "</table>\n",
       "</div>"
      ],
      "text/plain": [
       "   Pregnancies  Glucose  BloodPressure  SkinThickness  Insulin   BMI  \\\n",
       "0            6      148             72             35        0  33.6   \n",
       "1            1       85             66             29        0  26.6   \n",
       "2            8      183             64              0        0  23.3   \n",
       "3            1       89             66             23       94  28.1   \n",
       "4            0      137             40             35      168  43.1   \n",
       "5            5      116             74              0        0  25.6   \n",
       "6            3       78             50             32       88  31.0   \n",
       "7           10      115              0              0        0  35.3   \n",
       "8            2      197             70             45      543  30.5   \n",
       "9            8      125             96              0        0   0.0   \n",
       "\n",
       "   DiabetesPedigreeFunction  Age  Outcome  \n",
       "0                     0.627   50        1  \n",
       "1                     0.351   31        0  \n",
       "2                     0.672   32        1  \n",
       "3                     0.167   21        0  \n",
       "4                     2.288   33        1  \n",
       "5                     0.201   30        0  \n",
       "6                     0.248   26        1  \n",
       "7                     0.134   29        0  \n",
       "8                     0.158   53        1  \n",
       "9                     0.232   54        1  "
      ]
     },
     "execution_count": 4,
     "metadata": {},
     "output_type": "execute_result"
    }
   ],
   "source": [
    "diabetes.head(10)"
   ]
  },
  {
   "cell_type": "code",
   "execution_count": 5,
   "id": "a02c1a50",
   "metadata": {},
   "outputs": [
    {
     "data": {
      "text/html": [
       "<div>\n",
       "<style scoped>\n",
       "    .dataframe tbody tr th:only-of-type {\n",
       "        vertical-align: middle;\n",
       "    }\n",
       "\n",
       "    .dataframe tbody tr th {\n",
       "        vertical-align: top;\n",
       "    }\n",
       "\n",
       "    .dataframe thead th {\n",
       "        text-align: right;\n",
       "    }\n",
       "</style>\n",
       "<table border=\"1\" class=\"dataframe\">\n",
       "  <thead>\n",
       "    <tr style=\"text-align: right;\">\n",
       "      <th></th>\n",
       "      <th>Pregnancies</th>\n",
       "      <th>Glucose</th>\n",
       "      <th>BloodPressure</th>\n",
       "      <th>SkinThickness</th>\n",
       "      <th>Insulin</th>\n",
       "      <th>BMI</th>\n",
       "      <th>DiabetesPedigreeFunction</th>\n",
       "      <th>Age</th>\n",
       "      <th>Outcome</th>\n",
       "    </tr>\n",
       "  </thead>\n",
       "  <tbody>\n",
       "    <tr>\n",
       "      <th>count</th>\n",
       "      <td>768.000000</td>\n",
       "      <td>768.000000</td>\n",
       "      <td>768.000000</td>\n",
       "      <td>768.000000</td>\n",
       "      <td>768.000000</td>\n",
       "      <td>768.000000</td>\n",
       "      <td>768.000000</td>\n",
       "      <td>768.000000</td>\n",
       "      <td>768.000000</td>\n",
       "    </tr>\n",
       "    <tr>\n",
       "      <th>mean</th>\n",
       "      <td>3.845052</td>\n",
       "      <td>120.894531</td>\n",
       "      <td>69.105469</td>\n",
       "      <td>20.536458</td>\n",
       "      <td>79.799479</td>\n",
       "      <td>31.992578</td>\n",
       "      <td>0.471876</td>\n",
       "      <td>33.240885</td>\n",
       "      <td>0.348958</td>\n",
       "    </tr>\n",
       "    <tr>\n",
       "      <th>std</th>\n",
       "      <td>3.369578</td>\n",
       "      <td>31.972618</td>\n",
       "      <td>19.355807</td>\n",
       "      <td>15.952218</td>\n",
       "      <td>115.244002</td>\n",
       "      <td>7.884160</td>\n",
       "      <td>0.331329</td>\n",
       "      <td>11.760232</td>\n",
       "      <td>0.476951</td>\n",
       "    </tr>\n",
       "    <tr>\n",
       "      <th>min</th>\n",
       "      <td>0.000000</td>\n",
       "      <td>0.000000</td>\n",
       "      <td>0.000000</td>\n",
       "      <td>0.000000</td>\n",
       "      <td>0.000000</td>\n",
       "      <td>0.000000</td>\n",
       "      <td>0.078000</td>\n",
       "      <td>21.000000</td>\n",
       "      <td>0.000000</td>\n",
       "    </tr>\n",
       "    <tr>\n",
       "      <th>25%</th>\n",
       "      <td>1.000000</td>\n",
       "      <td>99.000000</td>\n",
       "      <td>62.000000</td>\n",
       "      <td>0.000000</td>\n",
       "      <td>0.000000</td>\n",
       "      <td>27.300000</td>\n",
       "      <td>0.243750</td>\n",
       "      <td>24.000000</td>\n",
       "      <td>0.000000</td>\n",
       "    </tr>\n",
       "    <tr>\n",
       "      <th>50%</th>\n",
       "      <td>3.000000</td>\n",
       "      <td>117.000000</td>\n",
       "      <td>72.000000</td>\n",
       "      <td>23.000000</td>\n",
       "      <td>30.500000</td>\n",
       "      <td>32.000000</td>\n",
       "      <td>0.372500</td>\n",
       "      <td>29.000000</td>\n",
       "      <td>0.000000</td>\n",
       "    </tr>\n",
       "    <tr>\n",
       "      <th>75%</th>\n",
       "      <td>6.000000</td>\n",
       "      <td>140.250000</td>\n",
       "      <td>80.000000</td>\n",
       "      <td>32.000000</td>\n",
       "      <td>127.250000</td>\n",
       "      <td>36.600000</td>\n",
       "      <td>0.626250</td>\n",
       "      <td>41.000000</td>\n",
       "      <td>1.000000</td>\n",
       "    </tr>\n",
       "    <tr>\n",
       "      <th>max</th>\n",
       "      <td>17.000000</td>\n",
       "      <td>199.000000</td>\n",
       "      <td>122.000000</td>\n",
       "      <td>99.000000</td>\n",
       "      <td>846.000000</td>\n",
       "      <td>67.100000</td>\n",
       "      <td>2.420000</td>\n",
       "      <td>81.000000</td>\n",
       "      <td>1.000000</td>\n",
       "    </tr>\n",
       "  </tbody>\n",
       "</table>\n",
       "</div>"
      ],
      "text/plain": [
       "       Pregnancies     Glucose  BloodPressure  SkinThickness     Insulin  \\\n",
       "count   768.000000  768.000000     768.000000     768.000000  768.000000   \n",
       "mean      3.845052  120.894531      69.105469      20.536458   79.799479   \n",
       "std       3.369578   31.972618      19.355807      15.952218  115.244002   \n",
       "min       0.000000    0.000000       0.000000       0.000000    0.000000   \n",
       "25%       1.000000   99.000000      62.000000       0.000000    0.000000   \n",
       "50%       3.000000  117.000000      72.000000      23.000000   30.500000   \n",
       "75%       6.000000  140.250000      80.000000      32.000000  127.250000   \n",
       "max      17.000000  199.000000     122.000000      99.000000  846.000000   \n",
       "\n",
       "              BMI  DiabetesPedigreeFunction         Age     Outcome  \n",
       "count  768.000000                768.000000  768.000000  768.000000  \n",
       "mean    31.992578                  0.471876   33.240885    0.348958  \n",
       "std      7.884160                  0.331329   11.760232    0.476951  \n",
       "min      0.000000                  0.078000   21.000000    0.000000  \n",
       "25%     27.300000                  0.243750   24.000000    0.000000  \n",
       "50%     32.000000                  0.372500   29.000000    0.000000  \n",
       "75%     36.600000                  0.626250   41.000000    1.000000  \n",
       "max     67.100000                  2.420000   81.000000    1.000000  "
      ]
     },
     "execution_count": 5,
     "metadata": {},
     "output_type": "execute_result"
    }
   ],
   "source": [
    "# Performing descriptive analysis\n",
    "diabetes.describe()"
   ]
  },
  {
   "cell_type": "markdown",
   "id": "005970d7",
   "metadata": {},
   "source": [
    "### Here we can see that some columns like 'Glucose','BloodPressure','SkinThickness','Insulin','BMI' has zero values which is very much impractical so, they are treated as missing values.\n",
    "\n",
    "### So, we will replace those zero values of each column with the mean of this column individually. By that all values looks like normal now."
   ]
  },
  {
   "cell_type": "code",
   "execution_count": 6,
   "id": "36ce08d2",
   "metadata": {},
   "outputs": [],
   "source": [
    "# Replacing 0 value of specific columns with their column mean\n",
    "diabetes['Glucose'] = diabetes['Glucose'].replace(0,diabetes['Glucose'].mean())\n",
    "diabetes['BloodPressure'] = diabetes['BloodPressure'].replace(0,diabetes['BloodPressure'].mean())\n",
    "diabetes['SkinThickness'] = diabetes['SkinThickness'].replace(0,diabetes['SkinThickness'].mean())\n",
    "diabetes['Insulin'] = diabetes['Insulin'].replace(0,diabetes['Insulin'].mean())\n",
    "diabetes['BMI'] = diabetes['BMI'].replace(0,diabetes['BMI'].mean())"
   ]
  },
  {
   "cell_type": "code",
   "execution_count": 7,
   "id": "06827017",
   "metadata": {},
   "outputs": [
    {
     "data": {
      "text/html": [
       "<div>\n",
       "<style scoped>\n",
       "    .dataframe tbody tr th:only-of-type {\n",
       "        vertical-align: middle;\n",
       "    }\n",
       "\n",
       "    .dataframe tbody tr th {\n",
       "        vertical-align: top;\n",
       "    }\n",
       "\n",
       "    .dataframe thead th {\n",
       "        text-align: right;\n",
       "    }\n",
       "</style>\n",
       "<table border=\"1\" class=\"dataframe\">\n",
       "  <thead>\n",
       "    <tr style=\"text-align: right;\">\n",
       "      <th></th>\n",
       "      <th>Pregnancies</th>\n",
       "      <th>Glucose</th>\n",
       "      <th>BloodPressure</th>\n",
       "      <th>SkinThickness</th>\n",
       "      <th>Insulin</th>\n",
       "      <th>BMI</th>\n",
       "      <th>DiabetesPedigreeFunction</th>\n",
       "      <th>Age</th>\n",
       "      <th>Outcome</th>\n",
       "    </tr>\n",
       "  </thead>\n",
       "  <tbody>\n",
       "    <tr>\n",
       "      <th>0</th>\n",
       "      <td>6</td>\n",
       "      <td>148.0</td>\n",
       "      <td>72.000000</td>\n",
       "      <td>35.000000</td>\n",
       "      <td>79.799479</td>\n",
       "      <td>33.600000</td>\n",
       "      <td>0.627</td>\n",
       "      <td>50</td>\n",
       "      <td>1</td>\n",
       "    </tr>\n",
       "    <tr>\n",
       "      <th>1</th>\n",
       "      <td>1</td>\n",
       "      <td>85.0</td>\n",
       "      <td>66.000000</td>\n",
       "      <td>29.000000</td>\n",
       "      <td>79.799479</td>\n",
       "      <td>26.600000</td>\n",
       "      <td>0.351</td>\n",
       "      <td>31</td>\n",
       "      <td>0</td>\n",
       "    </tr>\n",
       "    <tr>\n",
       "      <th>2</th>\n",
       "      <td>8</td>\n",
       "      <td>183.0</td>\n",
       "      <td>64.000000</td>\n",
       "      <td>20.536458</td>\n",
       "      <td>79.799479</td>\n",
       "      <td>23.300000</td>\n",
       "      <td>0.672</td>\n",
       "      <td>32</td>\n",
       "      <td>1</td>\n",
       "    </tr>\n",
       "    <tr>\n",
       "      <th>3</th>\n",
       "      <td>1</td>\n",
       "      <td>89.0</td>\n",
       "      <td>66.000000</td>\n",
       "      <td>23.000000</td>\n",
       "      <td>94.000000</td>\n",
       "      <td>28.100000</td>\n",
       "      <td>0.167</td>\n",
       "      <td>21</td>\n",
       "      <td>0</td>\n",
       "    </tr>\n",
       "    <tr>\n",
       "      <th>4</th>\n",
       "      <td>0</td>\n",
       "      <td>137.0</td>\n",
       "      <td>40.000000</td>\n",
       "      <td>35.000000</td>\n",
       "      <td>168.000000</td>\n",
       "      <td>43.100000</td>\n",
       "      <td>2.288</td>\n",
       "      <td>33</td>\n",
       "      <td>1</td>\n",
       "    </tr>\n",
       "    <tr>\n",
       "      <th>5</th>\n",
       "      <td>5</td>\n",
       "      <td>116.0</td>\n",
       "      <td>74.000000</td>\n",
       "      <td>20.536458</td>\n",
       "      <td>79.799479</td>\n",
       "      <td>25.600000</td>\n",
       "      <td>0.201</td>\n",
       "      <td>30</td>\n",
       "      <td>0</td>\n",
       "    </tr>\n",
       "    <tr>\n",
       "      <th>6</th>\n",
       "      <td>3</td>\n",
       "      <td>78.0</td>\n",
       "      <td>50.000000</td>\n",
       "      <td>32.000000</td>\n",
       "      <td>88.000000</td>\n",
       "      <td>31.000000</td>\n",
       "      <td>0.248</td>\n",
       "      <td>26</td>\n",
       "      <td>1</td>\n",
       "    </tr>\n",
       "    <tr>\n",
       "      <th>7</th>\n",
       "      <td>10</td>\n",
       "      <td>115.0</td>\n",
       "      <td>69.105469</td>\n",
       "      <td>20.536458</td>\n",
       "      <td>79.799479</td>\n",
       "      <td>35.300000</td>\n",
       "      <td>0.134</td>\n",
       "      <td>29</td>\n",
       "      <td>0</td>\n",
       "    </tr>\n",
       "    <tr>\n",
       "      <th>8</th>\n",
       "      <td>2</td>\n",
       "      <td>197.0</td>\n",
       "      <td>70.000000</td>\n",
       "      <td>45.000000</td>\n",
       "      <td>543.000000</td>\n",
       "      <td>30.500000</td>\n",
       "      <td>0.158</td>\n",
       "      <td>53</td>\n",
       "      <td>1</td>\n",
       "    </tr>\n",
       "    <tr>\n",
       "      <th>9</th>\n",
       "      <td>8</td>\n",
       "      <td>125.0</td>\n",
       "      <td>96.000000</td>\n",
       "      <td>20.536458</td>\n",
       "      <td>79.799479</td>\n",
       "      <td>31.992578</td>\n",
       "      <td>0.232</td>\n",
       "      <td>54</td>\n",
       "      <td>1</td>\n",
       "    </tr>\n",
       "  </tbody>\n",
       "</table>\n",
       "</div>"
      ],
      "text/plain": [
       "   Pregnancies  Glucose  BloodPressure  SkinThickness     Insulin        BMI  \\\n",
       "0            6    148.0      72.000000      35.000000   79.799479  33.600000   \n",
       "1            1     85.0      66.000000      29.000000   79.799479  26.600000   \n",
       "2            8    183.0      64.000000      20.536458   79.799479  23.300000   \n",
       "3            1     89.0      66.000000      23.000000   94.000000  28.100000   \n",
       "4            0    137.0      40.000000      35.000000  168.000000  43.100000   \n",
       "5            5    116.0      74.000000      20.536458   79.799479  25.600000   \n",
       "6            3     78.0      50.000000      32.000000   88.000000  31.000000   \n",
       "7           10    115.0      69.105469      20.536458   79.799479  35.300000   \n",
       "8            2    197.0      70.000000      45.000000  543.000000  30.500000   \n",
       "9            8    125.0      96.000000      20.536458   79.799479  31.992578   \n",
       "\n",
       "   DiabetesPedigreeFunction  Age  Outcome  \n",
       "0                     0.627   50        1  \n",
       "1                     0.351   31        0  \n",
       "2                     0.672   32        1  \n",
       "3                     0.167   21        0  \n",
       "4                     2.288   33        1  \n",
       "5                     0.201   30        0  \n",
       "6                     0.248   26        1  \n",
       "7                     0.134   29        0  \n",
       "8                     0.158   53        1  \n",
       "9                     0.232   54        1  "
      ]
     },
     "execution_count": 7,
     "metadata": {},
     "output_type": "execute_result"
    }
   ],
   "source": [
    "diabetes.head(10)"
   ]
  },
  {
   "cell_type": "code",
   "execution_count": 8,
   "id": "a085aa35",
   "metadata": {},
   "outputs": [
    {
     "data": {
      "text/html": [
       "<div>\n",
       "<style scoped>\n",
       "    .dataframe tbody tr th:only-of-type {\n",
       "        vertical-align: middle;\n",
       "    }\n",
       "\n",
       "    .dataframe tbody tr th {\n",
       "        vertical-align: top;\n",
       "    }\n",
       "\n",
       "    .dataframe thead th {\n",
       "        text-align: right;\n",
       "    }\n",
       "</style>\n",
       "<table border=\"1\" class=\"dataframe\">\n",
       "  <thead>\n",
       "    <tr style=\"text-align: right;\">\n",
       "      <th></th>\n",
       "      <th>Pregnancies</th>\n",
       "      <th>Glucose</th>\n",
       "      <th>BloodPressure</th>\n",
       "      <th>SkinThickness</th>\n",
       "      <th>Insulin</th>\n",
       "      <th>BMI</th>\n",
       "      <th>DiabetesPedigreeFunction</th>\n",
       "      <th>Age</th>\n",
       "      <th>Outcome</th>\n",
       "    </tr>\n",
       "  </thead>\n",
       "  <tbody>\n",
       "    <tr>\n",
       "      <th>count</th>\n",
       "      <td>768.000000</td>\n",
       "      <td>768.000000</td>\n",
       "      <td>768.000000</td>\n",
       "      <td>768.000000</td>\n",
       "      <td>768.000000</td>\n",
       "      <td>768.000000</td>\n",
       "      <td>768.000000</td>\n",
       "      <td>768.000000</td>\n",
       "      <td>768.000000</td>\n",
       "    </tr>\n",
       "    <tr>\n",
       "      <th>mean</th>\n",
       "      <td>3.845052</td>\n",
       "      <td>121.681605</td>\n",
       "      <td>72.254807</td>\n",
       "      <td>26.606479</td>\n",
       "      <td>118.660163</td>\n",
       "      <td>32.450805</td>\n",
       "      <td>0.471876</td>\n",
       "      <td>33.240885</td>\n",
       "      <td>0.348958</td>\n",
       "    </tr>\n",
       "    <tr>\n",
       "      <th>std</th>\n",
       "      <td>3.369578</td>\n",
       "      <td>30.436016</td>\n",
       "      <td>12.115932</td>\n",
       "      <td>9.631241</td>\n",
       "      <td>93.080358</td>\n",
       "      <td>6.875374</td>\n",
       "      <td>0.331329</td>\n",
       "      <td>11.760232</td>\n",
       "      <td>0.476951</td>\n",
       "    </tr>\n",
       "    <tr>\n",
       "      <th>min</th>\n",
       "      <td>0.000000</td>\n",
       "      <td>44.000000</td>\n",
       "      <td>24.000000</td>\n",
       "      <td>7.000000</td>\n",
       "      <td>14.000000</td>\n",
       "      <td>18.200000</td>\n",
       "      <td>0.078000</td>\n",
       "      <td>21.000000</td>\n",
       "      <td>0.000000</td>\n",
       "    </tr>\n",
       "    <tr>\n",
       "      <th>25%</th>\n",
       "      <td>1.000000</td>\n",
       "      <td>99.750000</td>\n",
       "      <td>64.000000</td>\n",
       "      <td>20.536458</td>\n",
       "      <td>79.799479</td>\n",
       "      <td>27.500000</td>\n",
       "      <td>0.243750</td>\n",
       "      <td>24.000000</td>\n",
       "      <td>0.000000</td>\n",
       "    </tr>\n",
       "    <tr>\n",
       "      <th>50%</th>\n",
       "      <td>3.000000</td>\n",
       "      <td>117.000000</td>\n",
       "      <td>72.000000</td>\n",
       "      <td>23.000000</td>\n",
       "      <td>79.799479</td>\n",
       "      <td>32.000000</td>\n",
       "      <td>0.372500</td>\n",
       "      <td>29.000000</td>\n",
       "      <td>0.000000</td>\n",
       "    </tr>\n",
       "    <tr>\n",
       "      <th>75%</th>\n",
       "      <td>6.000000</td>\n",
       "      <td>140.250000</td>\n",
       "      <td>80.000000</td>\n",
       "      <td>32.000000</td>\n",
       "      <td>127.250000</td>\n",
       "      <td>36.600000</td>\n",
       "      <td>0.626250</td>\n",
       "      <td>41.000000</td>\n",
       "      <td>1.000000</td>\n",
       "    </tr>\n",
       "    <tr>\n",
       "      <th>max</th>\n",
       "      <td>17.000000</td>\n",
       "      <td>199.000000</td>\n",
       "      <td>122.000000</td>\n",
       "      <td>99.000000</td>\n",
       "      <td>846.000000</td>\n",
       "      <td>67.100000</td>\n",
       "      <td>2.420000</td>\n",
       "      <td>81.000000</td>\n",
       "      <td>1.000000</td>\n",
       "    </tr>\n",
       "  </tbody>\n",
       "</table>\n",
       "</div>"
      ],
      "text/plain": [
       "       Pregnancies     Glucose  BloodPressure  SkinThickness     Insulin  \\\n",
       "count   768.000000  768.000000     768.000000     768.000000  768.000000   \n",
       "mean      3.845052  121.681605      72.254807      26.606479  118.660163   \n",
       "std       3.369578   30.436016      12.115932       9.631241   93.080358   \n",
       "min       0.000000   44.000000      24.000000       7.000000   14.000000   \n",
       "25%       1.000000   99.750000      64.000000      20.536458   79.799479   \n",
       "50%       3.000000  117.000000      72.000000      23.000000   79.799479   \n",
       "75%       6.000000  140.250000      80.000000      32.000000  127.250000   \n",
       "max      17.000000  199.000000     122.000000      99.000000  846.000000   \n",
       "\n",
       "              BMI  DiabetesPedigreeFunction         Age     Outcome  \n",
       "count  768.000000                768.000000  768.000000  768.000000  \n",
       "mean    32.450805                  0.471876   33.240885    0.348958  \n",
       "std      6.875374                  0.331329   11.760232    0.476951  \n",
       "min     18.200000                  0.078000   21.000000    0.000000  \n",
       "25%     27.500000                  0.243750   24.000000    0.000000  \n",
       "50%     32.000000                  0.372500   29.000000    0.000000  \n",
       "75%     36.600000                  0.626250   41.000000    1.000000  \n",
       "max     67.100000                  2.420000   81.000000    1.000000  "
      ]
     },
     "execution_count": 8,
     "metadata": {},
     "output_type": "execute_result"
    }
   ],
   "source": [
    "diabetes.describe()"
   ]
  },
  {
   "cell_type": "markdown",
   "id": "a4749af3",
   "metadata": {},
   "source": [
    "### So, all the zero values are replaced by their column mean."
   ]
  },
  {
   "cell_type": "markdown",
   "id": "99d21bcb",
   "metadata": {},
   "source": [
    "\n",
    "## Visually exploring the variables and looking for the distribution of these variables using histograms. Treating the missing values accordingly.\n"
   ]
  },
  {
   "cell_type": "code",
   "execution_count": 9,
   "id": "810d6081",
   "metadata": {},
   "outputs": [
    {
     "data": {
      "text/plain": [
       "['Glucose', 'BloodPressure', 'SkinThickness', 'Insulin', 'BMI']"
      ]
     },
     "execution_count": 9,
     "metadata": {},
     "output_type": "execute_result"
    }
   ],
   "source": [
    "col = ['Glucose','BloodPressure','SkinThickness','Insulin','BMI']\n",
    "col"
   ]
  },
  {
   "cell_type": "code",
   "execution_count": 10,
   "id": "642749ca",
   "metadata": {},
   "outputs": [
    {
     "data": {
      "image/png": "[encoded data removed]",
      "text/plain": [
       "<Figure size 800x300 with 1 Axes>"
      ]
     },
     "metadata": {},
     "output_type": "display_data"
    },
    {
     "data": {
      "image/png": "[encoded data removed]",
      "text/plain": [
       "<Figure size 800x300 with 1 Axes>"
      ]
     },
     "metadata": {},
     "output_type": "display_data"
    },
    {
     "data": {
      "image/png": "[encoded data removed]",
      "text/plain": [
       "<Figure size 800x300 with 1 Axes>"
      ]
     },
     "metadata": {},
     "output_type": "display_data"
    },
    {
     "data": {
      "image/png": "[encoded data removed]",
      "text/plain": [
       "<Figure size 800x300 with 1 Axes>"
      ]
     },
     "metadata": {},
     "output_type": "display_data"
    },
    {
     "data": {
      "image/png": "[encoded data removed]",
      "text/plain": [
       "<Figure size 800x300 with 1 Axes>"
      ]
     },
     "metadata": {},
     "output_type": "display_data"
    }
   ],
   "source": [
    "for i in range(0,len(col)):\n",
    "        plt.figure(figsize=(8,3))\n",
    "        sns.distplot(diabetes[col[i]], kde=True,color = 'fuchsia')\n",
    "        plt.tight_layout()\n",
    "        plt.show()\n",
    "       "
   ]
  },
  {
   "cell_type": "code",
   "execution_count": 11,
   "id": "ca5dc3df",
   "metadata": {},
   "outputs": [
    {
     "data": {
      "text/plain": [
       "1.2266699605994507"
      ]
     },
     "execution_count": 11,
     "metadata": {},
     "output_type": "execute_result"
    }
   ],
   "source": [
    "diabetes['SkinThickness'].skew()\n"
   ]
  },
  {
   "cell_type": "code",
   "execution_count": 12,
   "id": "8935e072",
   "metadata": {},
   "outputs": [
    {
     "data": {
      "text/plain": [
       "3.2918250253401626"
      ]
     },
     "execution_count": 12,
     "metadata": {},
     "output_type": "execute_result"
    }
   ],
   "source": [
    "diabetes['Insulin'].skew()\n"
   ]
  },
  {
   "cell_type": "code",
   "execution_count": 13,
   "id": "5e7fcf97",
   "metadata": {},
   "outputs": [
    {
     "data": {
      "text/plain": [
       "0.6011031773105561"
      ]
     },
     "execution_count": 13,
     "metadata": {},
     "output_type": "execute_result"
    }
   ],
   "source": [
    "diabetes['BMI'].skew()"
   ]
  },
  {
   "cell_type": "markdown",
   "id": "137f071e",
   "metadata": {},
   "source": [
    "### From the above histograms and skewness Values it can be easily seen that the distribution of 'SkinThickness','Insulin' & 'BMI' columns , is Right-Skewed. A right-skewed distribution is longer on the right side of its peak than on its left.\n",
    "\n",
    "### So we have to treat the skewness of dataset. There are several methods like Log transformation,Square Root Transform,Box-Cox Transform etc. Here we are using the Log Transformation to remove skewness of dataset."
   ]
  },
  {
   "cell_type": "code",
   "execution_count": 14,
   "id": "95aa8ca2",
   "metadata": {},
   "outputs": [
    {
     "data": {
      "text/plain": [
       "-0.039975536891733436"
      ]
     },
     "execution_count": 14,
     "metadata": {},
     "output_type": "execute_result"
    }
   ],
   "source": [
    "SkinThickness_log = np.log(diabetes['SkinThickness'])\n",
    "SkinThickness_log.skew()"
   ]
  },
  {
   "cell_type": "code",
   "execution_count": 15,
   "id": "60d92e05",
   "metadata": {},
   "outputs": [
    {
     "data": {
      "text/plain": [
       "<AxesSubplot: xlabel='SkinThickness', ylabel='Density'>"
      ]
     },
     "execution_count": 15,
     "metadata": {},
     "output_type": "execute_result"
    },
    {
     "data": {
      "image/png": "[encoded data removed]",
      "text/plain": [
       "<Figure size 640x560 with 1 Axes>"
      ]
     },
     "metadata": {},
     "output_type": "display_data"
    }
   ],
   "source": [
    "sns.distplot(SkinThickness_log)"
   ]
  },
  {
   "cell_type": "code",
   "execution_count": 16,
   "id": "2485f3fe",
   "metadata": {},
   "outputs": [
    {
     "data": {
      "text/plain": [
       "0.8474205674933389"
      ]
     },
     "execution_count": 16,
     "metadata": {},
     "output_type": "execute_result"
    }
   ],
   "source": [
    "Insulin_log = np.log(diabetes['Insulin'])\n",
    "Insulin_log.skew()"
   ]
  },
  {
   "cell_type": "code",
   "execution_count": 17,
   "id": "a7e0d31a",
   "metadata": {},
   "outputs": [
    {
     "data": {
      "text/plain": [
       "<AxesSubplot: xlabel='Insulin', ylabel='Density'>"
      ]
     },
     "execution_count": 17,
     "metadata": {},
     "output_type": "execute_result"
    },
    {
     "data": {
      "image/png": "[encoded data removed]",
      "text/plain": [
       "<Figure size 640x560 with 1 Axes>"
      ]
     },
     "metadata": {},
     "output_type": "display_data"
    }
   ],
   "source": [
    "sns.distplot(Insulin_log)"
   ]
  },
  {
   "cell_type": "code",
   "execution_count": 18,
   "id": "b4797e92",
   "metadata": {},
   "outputs": [
    {
     "data": {
      "text/plain": [
       "-0.05416113327854022"
      ]
     },
     "execution_count": 18,
     "metadata": {},
     "output_type": "execute_result"
    }
   ],
   "source": [
    "BMI_log = np.log(diabetes['BMI'])\n",
    "BMI_log.skew()"
   ]
  },
  {
   "cell_type": "code",
   "execution_count": 19,
   "id": "a56001c0",
   "metadata": {},
   "outputs": [
    {
     "data": {
      "text/plain": [
       "<AxesSubplot: xlabel='BMI', ylabel='Density'>"
      ]
     },
     "execution_count": 19,
     "metadata": {},
     "output_type": "execute_result"
    },
    {
     "data": {
      "image/png": "[encoded data removed]",
      "text/plain": [
       "<Figure size 640x560 with 1 Axes>"
      ]
     },
     "metadata": {},
     "output_type": "display_data"
    }
   ],
   "source": [
    "sns.distplot(BMI_log)"
   ]
  },
  {
   "cell_type": "markdown",
   "id": "5c3df074",
   "metadata": {},
   "source": [
    "### So we can see that after log transformation the data is now at nearly Normal distribution .\n"
   ]
  },
  {
   "cell_type": "markdown",
   "id": "19d8aa8d",
   "metadata": {},
   "source": [
    "### We will add those new columns in our dataset which were created after Log Transformation / Skewness traetment"
   ]
  },
  {
   "cell_type": "code",
   "execution_count": 20,
   "id": "8d79c689",
   "metadata": {},
   "outputs": [],
   "source": [
    "diabetes['SkinThickness_log']= SkinThickness_log\n",
    "diabetes['Insulin_log']= Insulin_log\n",
    "diabetes['BMI_log']= BMI_log"
   ]
  },
  {
   "cell_type": "code",
   "execution_count": 21,
   "id": "cadf75c8",
   "metadata": {},
   "outputs": [
    {
     "data": {
      "text/html": [
       "<div>\n",
       "<style scoped>\n",
       "    .dataframe tbody tr th:only-of-type {\n",
       "        vertical-align: middle;\n",
       "    }\n",
       "\n",
       "    .dataframe tbody tr th {\n",
       "        vertical-align: top;\n",
       "    }\n",
       "\n",
       "    .dataframe thead th {\n",
       "        text-align: right;\n",
       "    }\n",
       "</style>\n",
       "<table border=\"1\" class=\"dataframe\">\n",
       "  <thead>\n",
       "    <tr style=\"text-align: right;\">\n",
       "      <th></th>\n",
       "      <th>Pregnancies</th>\n",
       "      <th>Glucose</th>\n",
       "      <th>BloodPressure</th>\n",
       "      <th>SkinThickness</th>\n",
       "      <th>Insulin</th>\n",
       "      <th>BMI</th>\n",
       "      <th>DiabetesPedigreeFunction</th>\n",
       "      <th>Age</th>\n",
       "      <th>Outcome</th>\n",
       "      <th>SkinThickness_log</th>\n",
       "      <th>Insulin_log</th>\n",
       "      <th>BMI_log</th>\n",
       "    </tr>\n",
       "  </thead>\n",
       "  <tbody>\n",
       "    <tr>\n",
       "      <th>0</th>\n",
       "      <td>6</td>\n",
       "      <td>148.0</td>\n",
       "      <td>72.0</td>\n",
       "      <td>35.000000</td>\n",
       "      <td>79.799479</td>\n",
       "      <td>33.6</td>\n",
       "      <td>0.627</td>\n",
       "      <td>50</td>\n",
       "      <td>1</td>\n",
       "      <td>3.555348</td>\n",
       "      <td>4.379517</td>\n",
       "      <td>3.514526</td>\n",
       "    </tr>\n",
       "    <tr>\n",
       "      <th>1</th>\n",
       "      <td>1</td>\n",
       "      <td>85.0</td>\n",
       "      <td>66.0</td>\n",
       "      <td>29.000000</td>\n",
       "      <td>79.799479</td>\n",
       "      <td>26.6</td>\n",
       "      <td>0.351</td>\n",
       "      <td>31</td>\n",
       "      <td>0</td>\n",
       "      <td>3.367296</td>\n",
       "      <td>4.379517</td>\n",
       "      <td>3.280911</td>\n",
       "    </tr>\n",
       "    <tr>\n",
       "      <th>2</th>\n",
       "      <td>8</td>\n",
       "      <td>183.0</td>\n",
       "      <td>64.0</td>\n",
       "      <td>20.536458</td>\n",
       "      <td>79.799479</td>\n",
       "      <td>23.3</td>\n",
       "      <td>0.672</td>\n",
       "      <td>32</td>\n",
       "      <td>1</td>\n",
       "      <td>3.022202</td>\n",
       "      <td>4.379517</td>\n",
       "      <td>3.148453</td>\n",
       "    </tr>\n",
       "    <tr>\n",
       "      <th>3</th>\n",
       "      <td>1</td>\n",
       "      <td>89.0</td>\n",
       "      <td>66.0</td>\n",
       "      <td>23.000000</td>\n",
       "      <td>94.000000</td>\n",
       "      <td>28.1</td>\n",
       "      <td>0.167</td>\n",
       "      <td>21</td>\n",
       "      <td>0</td>\n",
       "      <td>3.135494</td>\n",
       "      <td>4.543295</td>\n",
       "      <td>3.335770</td>\n",
       "    </tr>\n",
       "    <tr>\n",
       "      <th>4</th>\n",
       "      <td>0</td>\n",
       "      <td>137.0</td>\n",
       "      <td>40.0</td>\n",
       "      <td>35.000000</td>\n",
       "      <td>168.000000</td>\n",
       "      <td>43.1</td>\n",
       "      <td>2.288</td>\n",
       "      <td>33</td>\n",
       "      <td>1</td>\n",
       "      <td>3.555348</td>\n",
       "      <td>5.123964</td>\n",
       "      <td>3.763523</td>\n",
       "    </tr>\n",
       "  </tbody>\n",
       "</table>\n",
       "</div>"
      ],
      "text/plain": [
       "   Pregnancies  Glucose  BloodPressure  SkinThickness     Insulin   BMI  \\\n",
       "0            6    148.0           72.0      35.000000   79.799479  33.6   \n",
       "1            1     85.0           66.0      29.000000   79.799479  26.6   \n",
       "2            8    183.0           64.0      20.536458   79.799479  23.3   \n",
       "3            1     89.0           66.0      23.000000   94.000000  28.1   \n",
       "4            0    137.0           40.0      35.000000  168.000000  43.1   \n",
       "\n",
       "   DiabetesPedigreeFunction  Age  Outcome  SkinThickness_log  Insulin_log  \\\n",
       "0                     0.627   50        1           3.555348     4.379517   \n",
       "1                     0.351   31        0           3.367296     4.379517   \n",
       "2                     0.672   32        1           3.022202     4.379517   \n",
       "3                     0.167   21        0           3.135494     4.543295   \n",
       "4                     2.288   33        1           3.555348     5.123964   \n",
       "\n",
       "    BMI_log  \n",
       "0  3.514526  \n",
       "1  3.280911  \n",
       "2  3.148453  \n",
       "3  3.335770  \n",
       "4  3.763523  "
      ]
     },
     "execution_count": 21,
     "metadata": {},
     "output_type": "execute_result"
    }
   ],
   "source": [
    "diabetes.head()"
   ]
  },
  {
   "cell_type": "markdown",
   "id": "62b52fc1",
   "metadata": {},
   "source": [
    "### Checking for Missing Values & Outliers"
   ]
  },
  {
   "cell_type": "code",
   "execution_count": 22,
   "id": "bfc0742a",
   "metadata": {},
   "outputs": [
    {
     "data": {
      "text/html": [
       "<div>\n",
       "<style scoped>\n",
       "    .dataframe tbody tr th:only-of-type {\n",
       "        vertical-align: middle;\n",
       "    }\n",
       "\n",
       "    .dataframe tbody tr th {\n",
       "        vertical-align: top;\n",
       "    }\n",
       "\n",
       "    .dataframe thead th {\n",
       "        text-align: right;\n",
       "    }\n",
       "</style>\n",
       "<table border=\"1\" class=\"dataframe\">\n",
       "  <thead>\n",
       "    <tr style=\"text-align: right;\">\n",
       "      <th></th>\n",
       "      <th>Pregnancies</th>\n",
       "      <th>Glucose</th>\n",
       "      <th>BloodPressure</th>\n",
       "      <th>SkinThickness</th>\n",
       "      <th>Insulin</th>\n",
       "      <th>BMI</th>\n",
       "      <th>DiabetesPedigreeFunction</th>\n",
       "      <th>Age</th>\n",
       "      <th>Outcome</th>\n",
       "      <th>SkinThickness_log</th>\n",
       "      <th>Insulin_log</th>\n",
       "      <th>BMI_log</th>\n",
       "    </tr>\n",
       "  </thead>\n",
       "  <tbody>\n",
       "    <tr>\n",
       "      <th>0</th>\n",
       "      <td>False</td>\n",
       "      <td>False</td>\n",
       "      <td>False</td>\n",
       "      <td>False</td>\n",
       "      <td>False</td>\n",
       "      <td>False</td>\n",
       "      <td>False</td>\n",
       "      <td>False</td>\n",
       "      <td>False</td>\n",
       "      <td>False</td>\n",
       "      <td>False</td>\n",
       "      <td>False</td>\n",
       "    </tr>\n",
       "    <tr>\n",
       "      <th>1</th>\n",
       "      <td>False</td>\n",
       "      <td>False</td>\n",
       "      <td>False</td>\n",
       "      <td>False</td>\n",
       "      <td>False</td>\n",
       "      <td>False</td>\n",
       "      <td>False</td>\n",
       "      <td>False</td>\n",
       "      <td>False</td>\n",
       "      <td>False</td>\n",
       "      <td>False</td>\n",
       "      <td>False</td>\n",
       "    </tr>\n",
       "    <tr>\n",
       "      <th>2</th>\n",
       "      <td>False</td>\n",
       "      <td>False</td>\n",
       "      <td>False</td>\n",
       "      <td>False</td>\n",
       "      <td>False</td>\n",
       "      <td>False</td>\n",
       "      <td>False</td>\n",
       "      <td>False</td>\n",
       "      <td>False</td>\n",
       "      <td>False</td>\n",
       "      <td>False</td>\n",
       "      <td>False</td>\n",
       "    </tr>\n",
       "    <tr>\n",
       "      <th>3</th>\n",
       "      <td>False</td>\n",
       "      <td>False</td>\n",
       "      <td>False</td>\n",
       "      <td>False</td>\n",
       "      <td>False</td>\n",
       "      <td>False</td>\n",
       "      <td>False</td>\n",
       "      <td>False</td>\n",
       "      <td>False</td>\n",
       "      <td>False</td>\n",
       "      <td>False</td>\n",
       "      <td>False</td>\n",
       "    </tr>\n",
       "    <tr>\n",
       "      <th>4</th>\n",
       "      <td>False</td>\n",
       "      <td>False</td>\n",
       "      <td>False</td>\n",
       "      <td>False</td>\n",
       "      <td>False</td>\n",
       "      <td>False</td>\n",
       "      <td>False</td>\n",
       "      <td>False</td>\n",
       "      <td>False</td>\n",
       "      <td>False</td>\n",
       "      <td>False</td>\n",
       "      <td>False</td>\n",
       "    </tr>\n",
       "    <tr>\n",
       "      <th>...</th>\n",
       "      <td>...</td>\n",
       "      <td>...</td>\n",
       "      <td>...</td>\n",
       "      <td>...</td>\n",
       "      <td>...</td>\n",
       "      <td>...</td>\n",
       "      <td>...</td>\n",
       "      <td>...</td>\n",
       "      <td>...</td>\n",
       "      <td>...</td>\n",
       "      <td>...</td>\n",
       "      <td>...</td>\n",
       "    </tr>\n",
       "    <tr>\n",
       "      <th>763</th>\n",
       "      <td>False</td>\n",
       "      <td>False</td>\n",
       "      <td>False</td>\n",
       "      <td>False</td>\n",
       "      <td>False</td>\n",
       "      <td>False</td>\n",
       "      <td>False</td>\n",
       "      <td>False</td>\n",
       "      <td>False</td>\n",
       "      <td>False</td>\n",
       "      <td>False</td>\n",
       "      <td>False</td>\n",
       "    </tr>\n",
       "    <tr>\n",
       "      <th>764</th>\n",
       "      <td>False</td>\n",
       "      <td>False</td>\n",
       "      <td>False</td>\n",
       "      <td>False</td>\n",
       "      <td>False</td>\n",
       "      <td>False</td>\n",
       "      <td>False</td>\n",
       "      <td>False</td>\n",
       "      <td>False</td>\n",
       "      <td>False</td>\n",
       "      <td>False</td>\n",
       "      <td>False</td>\n",
       "    </tr>\n",
       "    <tr>\n",
       "      <th>765</th>\n",
       "      <td>False</td>\n",
       "      <td>False</td>\n",
       "      <td>False</td>\n",
       "      <td>False</td>\n",
       "      <td>False</td>\n",
       "      <td>False</td>\n",
       "      <td>False</td>\n",
       "      <td>False</td>\n",
       "      <td>False</td>\n",
       "      <td>False</td>\n",
       "      <td>False</td>\n",
       "      <td>False</td>\n",
       "    </tr>\n",
       "    <tr>\n",
       "      <th>766</th>\n",
       "      <td>False</td>\n",
       "      <td>False</td>\n",
       "      <td>False</td>\n",
       "      <td>False</td>\n",
       "      <td>False</td>\n",
       "      <td>False</td>\n",
       "      <td>False</td>\n",
       "      <td>False</td>\n",
       "      <td>False</td>\n",
       "      <td>False</td>\n",
       "      <td>False</td>\n",
       "      <td>False</td>\n",
       "    </tr>\n",
       "    <tr>\n",
       "      <th>767</th>\n",
       "      <td>False</td>\n",
       "      <td>False</td>\n",
       "      <td>False</td>\n",
       "      <td>False</td>\n",
       "      <td>False</td>\n",
       "      <td>False</td>\n",
       "      <td>False</td>\n",
       "      <td>False</td>\n",
       "      <td>False</td>\n",
       "      <td>False</td>\n",
       "      <td>False</td>\n",
       "      <td>False</td>\n",
       "    </tr>\n",
       "  </tbody>\n",
       "</table>\n",
       "<p>768 rows × 12 columns</p>\n",
       "</div>"
      ],
      "text/plain": [
       "     Pregnancies  Glucose  BloodPressure  SkinThickness  Insulin    BMI  \\\n",
       "0          False    False          False          False    False  False   \n",
       "1          False    False          False          False    False  False   \n",
       "2          False    False          False          False    False  False   \n",
       "3          False    False          False          False    False  False   \n",
       "4          False    False          False          False    False  False   \n",
       "..           ...      ...            ...            ...      ...    ...   \n",
       "763        False    False          False          False    False  False   \n",
       "764        False    False          False          False    False  False   \n",
       "765        False    False          False          False    False  False   \n",
       "766        False    False          False          False    False  False   \n",
       "767        False    False          False          False    False  False   \n",
       "\n",
       "     DiabetesPedigreeFunction    Age  Outcome  SkinThickness_log  Insulin_log  \\\n",
       "0                       False  False    False              False        False   \n",
       "1                       False  False    False              False        False   \n",
       "2                       False  False    False              False        False   \n",
       "3                       False  False    False              False        False   \n",
       "4                       False  False    False              False        False   \n",
       "..                        ...    ...      ...                ...          ...   \n",
       "763                     False  False    False              False        False   \n",
       "764                     False  False    False              False        False   \n",
       "765                     False  False    False              False        False   \n",
       "766                     False  False    False              False        False   \n",
       "767                     False  False    False              False        False   \n",
       "\n",
       "     BMI_log  \n",
       "0      False  \n",
       "1      False  \n",
       "2      False  \n",
       "3      False  \n",
       "4      False  \n",
       "..       ...  \n",
       "763    False  \n",
       "764    False  \n",
       "765    False  \n",
       "766    False  \n",
       "767    False  \n",
       "\n",
       "[768 rows x 12 columns]"
      ]
     },
     "execution_count": 22,
     "metadata": {},
     "output_type": "execute_result"
    }
   ],
   "source": [
    "diabetes.isna()"
   ]
  },
  {
   "cell_type": "markdown",
   "id": "198b5bd4",
   "metadata": {},
   "source": [
    "#### So, There are no missing Value in the Dataset\n",
    "\n",
    "### Checking for Outliers by Boxplot Visualization"
   ]
  },
  {
   "cell_type": "code",
   "execution_count": 23,
   "id": "253cf003",
   "metadata": {},
   "outputs": [
    {
     "data": {
      "text/plain": [
       "['Glucose', 'BloodPressure', 'SkinThickness_log', 'Insulin_log', 'BMI_log']"
      ]
     },
     "execution_count": 23,
     "metadata": {},
     "output_type": "execute_result"
    }
   ],
   "source": [
    "col_log = ['Glucose','BloodPressure','SkinThickness_log','Insulin_log','BMI_log']\n",
    "col_log"
   ]
  },
  {
   "cell_type": "code",
   "execution_count": 24,
   "id": "37fa6965",
   "metadata": {},
   "outputs": [
    {
     "data": {
      "image/png": "[encoded data removed]",
      "text/plain": [
       "<Figure size 800x300 with 1 Axes>"
      ]
     },
     "metadata": {},
     "output_type": "display_data"
    },
    {
     "data": {
      "image/png": "[encoded data removed]",
      "text/plain": [
       "<Figure size 800x300 with 1 Axes>"
      ]
     },
     "metadata": {},
     "output_type": "display_data"
    },
    {
     "data": {
      "image/png": "[encoded data removed]",
      "text/plain": [
       "<Figure size 800x300 with 1 Axes>"
      ]
     },
     "metadata": {},
     "output_type": "display_data"
    },
    {
     "data": {
      "image/png": "[encoded data removed]",
      "text/plain": [
       "<Figure size 800x300 with 1 Axes>"
      ]
     },
     "metadata": {},
     "output_type": "display_data"
    },
    {
     "data": {
      "image/png": "[encoded data removed]",
      "text/plain": [
       "<Figure size 800x300 with 1 Axes>"
      ]
     },
     "metadata": {},
     "output_type": "display_data"
    }
   ],
   "source": [
    "for i in range(0,len(col_log)):\n",
    "        plt.figure(figsize=(8,3))\n",
    "        sns.boxplot(diabetes[col_log[i]],color = 'cyan')\n",
    "        plt.tight_layout()\n",
    "        plt.show()\n",
    "       "
   ]
  },
  {
   "cell_type": "markdown",
   "id": "9a71eeb3",
   "metadata": {},
   "source": [
    "### From above observation it can be seen that almost every column has outliers so we have to treat them.\n",
    "### We will treat outliers by Interquartile Range Technique / IQR Method"
   ]
  },
  {
   "cell_type": "code",
   "execution_count": 25,
   "id": "26d7075a",
   "metadata": {},
   "outputs": [],
   "source": [
    "# IQR (Interquartile range ) technique for outlier treatment\n",
    "def outlier_treatment(col_log):\n",
    "    sorted(col_log)\n",
    "    Q1,Q3 = np.percentile(col_log , [25,75])\n",
    "    IQR = Q3 - Q1\n",
    "    lower_range = Q1 - (1.5 * IQR)\n",
    "    upper_range = Q3 + (1.5 * IQR)\n",
    "    return lower_range,upper_range"
   ]
  },
  {
   "cell_type": "markdown",
   "id": "29271690",
   "metadata": {},
   "source": [
    "### Outlier Treatment of column BloodPressure"
   ]
  },
  {
   "cell_type": "code",
   "execution_count": 26,
   "id": "34ec0262",
   "metadata": {},
   "outputs": [
    {
     "name": "stdout",
     "output_type": "stream",
     "text": [
      "Lower Range: 40.0\n",
      "Upper Range: 104.0\n"
     ]
    }
   ],
   "source": [
    "# Show the Range of outliers for column BloodPressure\n",
    "lower_range,upper_range = outlier_treatment(diabetes['BloodPressure'])\n",
    "print(\"Lower Range:\",lower_range)\n",
    "print(\"Upper Range:\",upper_range)"
   ]
  },
  {
   "cell_type": "code",
   "execution_count": 27,
   "id": "20fc3596",
   "metadata": {},
   "outputs": [
    {
     "data": {
      "text/plain": [
       "<AxesSubplot: xlabel='BloodPressure'>"
      ]
     },
     "execution_count": 27,
     "metadata": {},
     "output_type": "execute_result"
    },
    {
     "data": {
      "image/png": "[encoded data removed]",
      "text/plain": [
       "<Figure size 640x560 with 1 Axes>"
      ]
     },
     "metadata": {},
     "output_type": "display_data"
    }
   ],
   "source": [
    "# Treatment with IQR\n",
    "lower_index = list(diabetes[ diabetes['BloodPressure'] < lower_range ].index)\n",
    "\n",
    "upper_index = list(diabetes[ diabetes['BloodPressure'] > upper_range ].index)\n",
    "\n",
    "total_index = list(lower_index + upper_index)\n",
    "diabetes.drop(total_index, inplace = True)\n",
    "sns.boxplot(x=diabetes['BloodPressure'])"
   ]
  },
  {
   "cell_type": "markdown",
   "id": "565183cc",
   "metadata": {},
   "source": [
    "#### So, we can see that all outliers are removed from this column"
   ]
  },
  {
   "cell_type": "markdown",
   "id": "33f6822d",
   "metadata": {},
   "source": [
    "### Outlier Treatment of column SkinThickness_log"
   ]
  },
  {
   "cell_type": "code",
   "execution_count": 28,
   "id": "10e70900",
   "metadata": {},
   "outputs": [
    {
     "name": "stdout",
     "output_type": "stream",
     "text": [
      "Lower Range: 2.3569005504250247\n",
      "Upper Range: 4.131037114224547\n"
     ]
    }
   ],
   "source": [
    "# Show the Range of outliers for column SkinThickness_log\n",
    "lower_range,upper_range = outlier_treatment(diabetes['SkinThickness_log'])\n",
    "print(\"Lower Range:\",lower_range)\n",
    "print(\"Upper Range:\",upper_range)"
   ]
  },
  {
   "cell_type": "code",
   "execution_count": 29,
   "id": "c2f66a1a",
   "metadata": {},
   "outputs": [
    {
     "data": {
      "text/plain": [
       "<AxesSubplot: xlabel='SkinThickness_log'>"
      ]
     },
     "execution_count": 29,
     "metadata": {},
     "output_type": "execute_result"
    },
    {
     "data": {
      "image/png": "[encoded data removed]",
      "text/plain": [
       "<Figure size 640x560 with 1 Axes>"
      ]
     },
     "metadata": {},
     "output_type": "display_data"
    }
   ],
   "source": [
    "# Treatment with IQR\n",
    "lower_index = list(diabetes[ diabetes['SkinThickness_log'] < lower_range ].index)\n",
    "\n",
    "upper_index = list(diabetes[ diabetes['SkinThickness_log'] > upper_range ].index)\n",
    "\n",
    "total_index = list(lower_index + upper_index)\n",
    "diabetes.drop(total_index, inplace = True)\n",
    "sns.boxplot(x=diabetes['SkinThickness_log'])"
   ]
  },
  {
   "cell_type": "markdown",
   "id": "08108d68",
   "metadata": {},
   "source": [
    "#### So, we can see that all outliers are removed from this column"
   ]
  },
  {
   "cell_type": "markdown",
   "id": "b8d01940",
   "metadata": {},
   "source": [
    "### Outlier Treatment of column Insulin_log"
   ]
  },
  {
   "cell_type": "code",
   "execution_count": 30,
   "id": "9e136979",
   "metadata": {},
   "outputs": [
    {
     "name": "stdout",
     "output_type": "stream",
     "text": [
      "Lower Range: 3.688440699194856\n",
      "Upper Range: 5.531310775211143\n"
     ]
    }
   ],
   "source": [
    "# Show the Range of outliers for column Insulin_log\n",
    "lower_range,upper_range = outlier_treatment(diabetes['Insulin_log'])\n",
    "print(\"Lower Range:\",lower_range)\n",
    "print(\"Upper Range:\",upper_range)"
   ]
  },
  {
   "cell_type": "code",
   "execution_count": 31,
   "id": "c9f32dbb",
   "metadata": {},
   "outputs": [
    {
     "data": {
      "text/plain": [
       "<AxesSubplot: xlabel='Insulin_log'>"
      ]
     },
     "execution_count": 31,
     "metadata": {},
     "output_type": "execute_result"
    },
    {
     "data": {
      "image/png": "[encoded data removed]",
      "text/plain": [
       "<Figure size 640x560 with 1 Axes>"
      ]
     },
     "metadata": {},
     "output_type": "display_data"
    }
   ],
   "source": [
    "# Treatment with IQR\n",
    "lower_index = list(diabetes[ diabetes['Insulin_log'] < lower_range ].index)\n",
    "\n",
    "upper_index = list(diabetes[ diabetes['Insulin_log'] > upper_range ].index)\n",
    "\n",
    "total_index = list(lower_index + upper_index)\n",
    "diabetes.drop(total_index, inplace = True)\n",
    "sns.boxplot(x=diabetes['Insulin_log'],color = 'cyan')"
   ]
  },
  {
   "cell_type": "markdown",
   "id": "f0a8b2df",
   "metadata": {},
   "source": [
    "#### So, we can see that all outliers are removed from this column but there are showing more. \n",
    "#### As the number of data around the outlier region is more so we are taking this column as it is showing now."
   ]
  },
  {
   "cell_type": "markdown",
   "id": "27465544",
   "metadata": {},
   "source": [
    "### Outlier Treatment of column BMI_log"
   ]
  },
  {
   "cell_type": "code",
   "execution_count": 32,
   "id": "3e840b8a",
   "metadata": {},
   "outputs": [
    {
     "name": "stdout",
     "output_type": "stream",
     "text": [
      "Lower Range: 2.900038903219875\n",
      "Upper Range: 3.994716530350941\n"
     ]
    }
   ],
   "source": [
    "# Show the Range of outliers for column BMI_log\n",
    "lower_range,upper_range = outlier_treatment(diabetes['BMI_log'])\n",
    "print(\"Lower Range:\",lower_range)\n",
    "print(\"Upper Range:\",upper_range)"
   ]
  },
  {
   "cell_type": "code",
   "execution_count": 33,
   "id": "8d78ed0d",
   "metadata": {},
   "outputs": [
    {
     "data": {
      "text/plain": [
       "<AxesSubplot: xlabel='BMI_log'>"
      ]
     },
     "execution_count": 33,
     "metadata": {},
     "output_type": "execute_result"
    },
    {
     "data": {
      "image/png": "[encoded data removed]",
      "text/plain": [
       "<Figure size 640x560 with 1 Axes>"
      ]
     },
     "metadata": {},
     "output_type": "display_data"
    }
   ],
   "source": [
    "# Treatment with IQR\n",
    "lower_index = list(diabetes[ diabetes['BMI_log'] < lower_range ].index)\n",
    "\n",
    "upper_index = list(diabetes[ diabetes['BMI_log'] > upper_range ].index)\n",
    "\n",
    "total_index = list(lower_index + upper_index)\n",
    "diabetes.drop(total_index, inplace = True)\n",
    "sns.boxplot(x=diabetes['BMI_log'])"
   ]
  },
  {
   "cell_type": "markdown",
   "id": "3e25c498",
   "metadata": {},
   "source": [
    "#### So, we can see that all outliers are removed from this column"
   ]
  },
  {
   "cell_type": "markdown",
   "id": "a8d5a202",
   "metadata": {},
   "source": [
    "### Create a count (frequency) plot describing the data types and the count of variables. "
   ]
  },
  {
   "cell_type": "code",
   "execution_count": 34,
   "id": "462bd4f2",
   "metadata": {},
   "outputs": [
    {
     "name": "stdout",
     "output_type": "stream",
     "text": [
      "<class 'pandas.core.frame.DataFrame'>\n",
      "Int64Index: 675 entries, 0 to 767\n",
      "Data columns (total 12 columns):\n",
      " #   Column                    Non-Null Count  Dtype  \n",
      "---  ------                    --------------  -----  \n",
      " 0   Pregnancies               675 non-null    int64  \n",
      " 1   Glucose                   675 non-null    float64\n",
      " 2   BloodPressure             675 non-null    float64\n",
      " 3   SkinThickness             675 non-null    float64\n",
      " 4   Insulin                   675 non-null    float64\n",
      " 5   BMI                       675 non-null    float64\n",
      " 6   DiabetesPedigreeFunction  675 non-null    float64\n",
      " 7   Age                       675 non-null    int64  \n",
      " 8   Outcome                   675 non-null    int64  \n",
      " 9   SkinThickness_log         675 non-null    float64\n",
      " 10  Insulin_log               675 non-null    float64\n",
      " 11  BMI_log                   675 non-null    float64\n",
      "dtypes: float64(9), int64(3)\n",
      "memory usage: 68.6 KB\n"
     ]
    }
   ],
   "source": [
    "diabetes.info()"
   ]
  },
  {
   "cell_type": "code",
   "execution_count": 35,
   "id": "cde8c796",
   "metadata": {
    "scrolled": false
   },
   "outputs": [
    {
     "ename": "ValueError",
     "evalue": "Cannot use `hue` without `x` and `y`",
     "output_type": "error",
     "traceback": [
      "\u001b[1;31m---------------------------------------------------------------------------\u001b[0m",
      "\u001b[1;31mValueError\u001b[0m                                Traceback (most recent call last)",
      "Cell \u001b[1;32mIn[35], line 3\u001b[0m\n\u001b[0;32m      1\u001b[0m \u001b[39mfor\u001b[39;00m i \u001b[39min\u001b[39;00m \u001b[39mrange\u001b[39m(\u001b[39m0\u001b[39m,\u001b[39mlen\u001b[39m(col_log)):\n\u001b[0;32m      2\u001b[0m         plt\u001b[39m.\u001b[39mfigure(figsize\u001b[39m=\u001b[39m(\u001b[39m15\u001b[39m,\u001b[39m8\u001b[39m))\n\u001b[1;32m----> 3\u001b[0m         sns\u001b[39m.\u001b[39;49mcountplot(diabetes[col_log[i]],hue\u001b[39m=\u001b[39;49m diabetes[\u001b[39m'\u001b[39;49m\u001b[39mOutcome\u001b[39;49m\u001b[39m'\u001b[39;49m])\n\u001b[0;32m      4\u001b[0m         plt\u001b[39m.\u001b[39mtight_layout()\n\u001b[0;32m      5\u001b[0m         plt\u001b[39m.\u001b[39mshow()\n",
      "File \u001b[1;32mc:\\Users\\mesan\\anaconda3\\lib\\site-packages\\seaborn\\categorical.py:2943\u001b[0m, in \u001b[0;36mcountplot\u001b[1;34m(data, x, y, hue, order, hue_order, orient, color, palette, saturation, width, dodge, ax, **kwargs)\u001b[0m\n\u001b[0;32m   2940\u001b[0m \u001b[39melif\u001b[39;00m x \u001b[39mis\u001b[39;00m \u001b[39mnot\u001b[39;00m \u001b[39mNone\u001b[39;00m \u001b[39mand\u001b[39;00m y \u001b[39mis\u001b[39;00m \u001b[39mnot\u001b[39;00m \u001b[39mNone\u001b[39;00m:\n\u001b[0;32m   2941\u001b[0m     \u001b[39mraise\u001b[39;00m \u001b[39mValueError\u001b[39;00m(\u001b[39m\"\u001b[39m\u001b[39mCannot pass values for both `x` and `y`\u001b[39m\u001b[39m\"\u001b[39m)\n\u001b[1;32m-> 2943\u001b[0m plotter \u001b[39m=\u001b[39m _CountPlotter(\n\u001b[0;32m   2944\u001b[0m     x, y, hue, data, order, hue_order,\n\u001b[0;32m   2945\u001b[0m     estimator, errorbar, n_boot, units, seed,\n\u001b[0;32m   2946\u001b[0m     orient, color, palette, saturation,\n\u001b[0;32m   2947\u001b[0m     width, errcolor, errwidth, capsize, dodge\n\u001b[0;32m   2948\u001b[0m )\n\u001b[0;32m   2950\u001b[0m plotter\u001b[39m.\u001b[39mvalue_label \u001b[39m=\u001b[39m \u001b[39m\"\u001b[39m\u001b[39mcount\u001b[39m\u001b[39m\"\u001b[39m\n\u001b[0;32m   2952\u001b[0m \u001b[39mif\u001b[39;00m ax \u001b[39mis\u001b[39;00m \u001b[39mNone\u001b[39;00m:\n",
      "File \u001b[1;32mc:\\Users\\mesan\\anaconda3\\lib\\site-packages\\seaborn\\categorical.py:1530\u001b[0m, in \u001b[0;36m_BarPlotter.__init__\u001b[1;34m(self, x, y, hue, data, order, hue_order, estimator, errorbar, n_boot, units, seed, orient, color, palette, saturation, width, errcolor, errwidth, capsize, dodge)\u001b[0m\n\u001b[0;32m   1525\u001b[0m \u001b[39mdef\u001b[39;00m \u001b[39m__init__\u001b[39m(\u001b[39mself\u001b[39m, x, y, hue, data, order, hue_order,\n\u001b[0;32m   1526\u001b[0m              estimator, errorbar, n_boot, units, seed,\n\u001b[0;32m   1527\u001b[0m              orient, color, palette, saturation, width,\n\u001b[0;32m   1528\u001b[0m              errcolor, errwidth, capsize, dodge):\n\u001b[0;32m   1529\u001b[0m \u001b[39m    \u001b[39m\u001b[39m\"\"\"Initialize the plotter.\"\"\"\u001b[39;00m\n\u001b[1;32m-> 1530\u001b[0m     \u001b[39mself\u001b[39;49m\u001b[39m.\u001b[39;49mestablish_variables(x, y, hue, data, orient,\n\u001b[0;32m   1531\u001b[0m                              order, hue_order, units)\n\u001b[0;32m   1532\u001b[0m     \u001b[39mself\u001b[39m\u001b[39m.\u001b[39mestablish_colors(color, palette, saturation)\n\u001b[0;32m   1533\u001b[0m     \u001b[39mself\u001b[39m\u001b[39m.\u001b[39mestimate_statistic(estimator, errorbar, n_boot, seed)\n",
      "File \u001b[1;32mc:\\Users\\mesan\\anaconda3\\lib\\site-packages\\seaborn\\categorical.py:437\u001b[0m, in \u001b[0;36m_CategoricalPlotter.establish_variables\u001b[1;34m(self, x, y, hue, data, orient, order, hue_order, units)\u001b[0m\n\u001b[0;32m    435\u001b[0m \u001b[39mif\u001b[39;00m hue \u001b[39mis\u001b[39;00m \u001b[39mnot\u001b[39;00m \u001b[39mNone\u001b[39;00m:\n\u001b[0;32m    436\u001b[0m     error \u001b[39m=\u001b[39m \u001b[39m\"\u001b[39m\u001b[39mCannot use `hue` without `x` and `y`\u001b[39m\u001b[39m\"\u001b[39m\n\u001b[1;32m--> 437\u001b[0m     \u001b[39mraise\u001b[39;00m \u001b[39mValueError\u001b[39;00m(error)\n\u001b[0;32m    439\u001b[0m \u001b[39m# No hue grouping with wide inputs\u001b[39;00m\n\u001b[0;32m    440\u001b[0m plot_hues \u001b[39m=\u001b[39m \u001b[39mNone\u001b[39;00m\n",
      "\u001b[1;31mValueError\u001b[0m: Cannot use `hue` without `x` and `y`"
     ]
    },
    {
     "data": {
      "text/plain": [
       "<Figure size 1500x800 with 0 Axes>"
      ]
     },
     "metadata": {},
     "output_type": "display_data"
    }
   ],
   "source": [
    "for i in range(0,len(col_log)):\n",
    "        plt.figure(figsize=(15,8))\n",
    "        sns.countplot(diabetes[col_log[i]],hue= diabetes['Outcome'])\n",
    "        plt.tight_layout()\n",
    "        plt.show()\n",
    "       "
   ]
  },
  {
   "cell_type": "code",
   "execution_count": 36,
   "id": "fda8299e",
   "metadata": {},
   "outputs": [
    {
     "ename": "ValueError",
     "evalue": "Cannot use `hue` without `x` and `y`",
     "output_type": "error",
     "traceback": [
      "\u001b[1;31m---------------------------------------------------------------------------\u001b[0m",
      "\u001b[1;31mValueError\u001b[0m                                Traceback (most recent call last)",
      "Cell \u001b[1;32mIn[36], line 1\u001b[0m\n\u001b[1;32m----> 1\u001b[0m sns\u001b[39m.\u001b[39;49mcountplot(diabetes[\u001b[39m'\u001b[39;49m\u001b[39mAge\u001b[39;49m\u001b[39m'\u001b[39;49m],hue \u001b[39m=\u001b[39;49m diabetes[\u001b[39m'\u001b[39;49m\u001b[39mOutcome\u001b[39;49m\u001b[39m'\u001b[39;49m])\n",
      "File \u001b[1;32mc:\\Users\\mesan\\anaconda3\\lib\\site-packages\\seaborn\\categorical.py:2943\u001b[0m, in \u001b[0;36mcountplot\u001b[1;34m(data, x, y, hue, order, hue_order, orient, color, palette, saturation, width, dodge, ax, **kwargs)\u001b[0m\n\u001b[0;32m   2940\u001b[0m \u001b[39melif\u001b[39;00m x \u001b[39mis\u001b[39;00m \u001b[39mnot\u001b[39;00m \u001b[39mNone\u001b[39;00m \u001b[39mand\u001b[39;00m y \u001b[39mis\u001b[39;00m \u001b[39mnot\u001b[39;00m \u001b[39mNone\u001b[39;00m:\n\u001b[0;32m   2941\u001b[0m     \u001b[39mraise\u001b[39;00m \u001b[39mValueError\u001b[39;00m(\u001b[39m\"\u001b[39m\u001b[39mCannot pass values for both `x` and `y`\u001b[39m\u001b[39m\"\u001b[39m)\n\u001b[1;32m-> 2943\u001b[0m plotter \u001b[39m=\u001b[39m _CountPlotter(\n\u001b[0;32m   2944\u001b[0m     x, y, hue, data, order, hue_order,\n\u001b[0;32m   2945\u001b[0m     estimator, errorbar, n_boot, units, seed,\n\u001b[0;32m   2946\u001b[0m     orient, color, palette, saturation,\n\u001b[0;32m   2947\u001b[0m     width, errcolor, errwidth, capsize, dodge\n\u001b[0;32m   2948\u001b[0m )\n\u001b[0;32m   2950\u001b[0m plotter\u001b[39m.\u001b[39mvalue_label \u001b[39m=\u001b[39m \u001b[39m\"\u001b[39m\u001b[39mcount\u001b[39m\u001b[39m\"\u001b[39m\n\u001b[0;32m   2952\u001b[0m \u001b[39mif\u001b[39;00m ax \u001b[39mis\u001b[39;00m \u001b[39mNone\u001b[39;00m:\n",
      "File \u001b[1;32mc:\\Users\\mesan\\anaconda3\\lib\\site-packages\\seaborn\\categorical.py:1530\u001b[0m, in \u001b[0;36m_BarPlotter.__init__\u001b[1;34m(self, x, y, hue, data, order, hue_order, estimator, errorbar, n_boot, units, seed, orient, color, palette, saturation, width, errcolor, errwidth, capsize, dodge)\u001b[0m\n\u001b[0;32m   1525\u001b[0m \u001b[39mdef\u001b[39;00m \u001b[39m__init__\u001b[39m(\u001b[39mself\u001b[39m, x, y, hue, data, order, hue_order,\n\u001b[0;32m   1526\u001b[0m              estimator, errorbar, n_boot, units, seed,\n\u001b[0;32m   1527\u001b[0m              orient, color, palette, saturation, width,\n\u001b[0;32m   1528\u001b[0m              errcolor, errwidth, capsize, dodge):\n\u001b[0;32m   1529\u001b[0m \u001b[39m    \u001b[39m\u001b[39m\"\"\"Initialize the plotter.\"\"\"\u001b[39;00m\n\u001b[1;32m-> 1530\u001b[0m     \u001b[39mself\u001b[39;49m\u001b[39m.\u001b[39;49mestablish_variables(x, y, hue, data, orient,\n\u001b[0;32m   1531\u001b[0m                              order, hue_order, units)\n\u001b[0;32m   1532\u001b[0m     \u001b[39mself\u001b[39m\u001b[39m.\u001b[39mestablish_colors(color, palette, saturation)\n\u001b[0;32m   1533\u001b[0m     \u001b[39mself\u001b[39m\u001b[39m.\u001b[39mestimate_statistic(estimator, errorbar, n_boot, seed)\n",
      "File \u001b[1;32mc:\\Users\\mesan\\anaconda3\\lib\\site-packages\\seaborn\\categorical.py:437\u001b[0m, in \u001b[0;36m_CategoricalPlotter.establish_variables\u001b[1;34m(self, x, y, hue, data, orient, order, hue_order, units)\u001b[0m\n\u001b[0;32m    435\u001b[0m \u001b[39mif\u001b[39;00m hue \u001b[39mis\u001b[39;00m \u001b[39mnot\u001b[39;00m \u001b[39mNone\u001b[39;00m:\n\u001b[0;32m    436\u001b[0m     error \u001b[39m=\u001b[39m \u001b[39m\"\u001b[39m\u001b[39mCannot use `hue` without `x` and `y`\u001b[39m\u001b[39m\"\u001b[39m\n\u001b[1;32m--> 437\u001b[0m     \u001b[39mraise\u001b[39;00m \u001b[39mValueError\u001b[39;00m(error)\n\u001b[0;32m    439\u001b[0m \u001b[39m# No hue grouping with wide inputs\u001b[39;00m\n\u001b[0;32m    440\u001b[0m plot_hues \u001b[39m=\u001b[39m \u001b[39mNone\u001b[39;00m\n",
      "\u001b[1;31mValueError\u001b[0m: Cannot use `hue` without `x` and `y`"
     ]
    }
   ],
   "source": [
    "sns.countplot(diabetes['Age'],hue = diabetes['Outcome'])"
   ]
  },
  {
   "cell_type": "code",
   "execution_count": null,
   "id": "10b34e21",
   "metadata": {},
   "outputs": [],
   "source": [
    "sns.countplot(diabetes['Pregnancies'],hue = diabetes['Outcome'])"
   ]
  },
  {
   "cell_type": "markdown",
   "id": "784b0047",
   "metadata": {},
   "source": [
    "### Dropping unnecessary columns"
   ]
  },
  {
   "cell_type": "code",
   "execution_count": null,
   "id": "42c19976",
   "metadata": {},
   "outputs": [],
   "source": [
    "diabetes = diabetes.drop('SkinThickness',axis=1)\n",
    "diabetes.head()"
   ]
  },
  {
   "cell_type": "code",
   "execution_count": null,
   "id": "da3218ab",
   "metadata": {},
   "outputs": [],
   "source": [
    "diabetes = diabetes.drop('Insulin',axis=1)\n",
    "diabetes.head()"
   ]
  },
  {
   "cell_type": "code",
   "execution_count": null,
   "id": "731242e6",
   "metadata": {},
   "outputs": [],
   "source": [
    "diabetes = diabetes.drop('BMI',axis=1)\n",
    "diabetes.head()"
   ]
  },
  {
   "cell_type": "markdown",
   "id": "f5c423db",
   "metadata": {},
   "source": [
    "## Create scatter charts between the pair of variables to understand the relationships "
   ]
  },
  {
   "cell_type": "code",
   "execution_count": null,
   "id": "873817e4",
   "metadata": {},
   "outputs": [],
   "source": [
    "sns.scatterplot(data=diabetes, x=\"Insulin_log\", y=\"Age\", hue=\"Outcome\", size=None ,legend='auto')"
   ]
  },
  {
   "cell_type": "markdown",
   "id": "2be83ac3",
   "metadata": {},
   "source": [
    "### We can observe from the above scatter plot that with increasing Insulin Level and at Old ages , the chances of diabetes increases."
   ]
  },
  {
   "cell_type": "code",
   "execution_count": null,
   "id": "33da90d1",
   "metadata": {},
   "outputs": [],
   "source": [
    "sns.scatterplot(data=diabetes, x=\"Insulin_log\", y=\"Glucose\", hue=\"Outcome\", size=None ,legend='auto')"
   ]
  },
  {
   "cell_type": "markdown",
   "id": "e3cb923d",
   "metadata": {},
   "source": [
    "### From above observation it is clear that at low Glucose and Insulin level, mostly no chances of Diabetes but chances increases with increase in Glucose level."
   ]
  },
  {
   "cell_type": "code",
   "execution_count": null,
   "id": "8a51072e",
   "metadata": {},
   "outputs": [],
   "source": [
    "sns.scatterplot(data=diabetes, x=\"Age\", y=\"Glucose\", hue=\"Outcome\", size=None ,legend='auto')"
   ]
  },
  {
   "cell_type": "markdown",
   "id": "6ba10b45",
   "metadata": {},
   "source": [
    "### From above observation, we can see that Mostly Diabetes depends on high Glucose level and its not depended on age."
   ]
  },
  {
   "cell_type": "code",
   "execution_count": null,
   "id": "efbb17ec",
   "metadata": {},
   "outputs": [],
   "source": [
    "sns.scatterplot(data=diabetes, x=\"BMI_log\", y=\"Age\", hue=\"Outcome\", size=None ,legend='auto')"
   ]
  },
  {
   "cell_type": "markdown",
   "id": "ae03786c",
   "metadata": {},
   "source": [
    "### From above observation, we can see that at low age when BMI rate is high then there are possibilities of Diabetes. Again at higher age and low BMI cn also be reason of Diabetes."
   ]
  },
  {
   "cell_type": "code",
   "execution_count": null,
   "id": "e00edf80",
   "metadata": {},
   "outputs": [],
   "source": [
    "sns.scatterplot(data=diabetes, x=\"Pregnancies\", y=\"Glucose\", hue=\"Outcome\", size=None ,legend='auto')"
   ]
  },
  {
   "cell_type": "markdown",
   "id": "5f4bcf9f",
   "metadata": {},
   "source": [
    "### We can observe from the above scatter plot that with increasing pregnency count and Glucose level , the chances of diabetes also increases."
   ]
  },
  {
   "cell_type": "code",
   "execution_count": null,
   "id": "16a2dab0",
   "metadata": {},
   "outputs": [],
   "source": [
    "sns.scatterplot(data=diabetes, x=\"SkinThickness_log\", y=\"BMI_log\", hue=\"Outcome\", size=None ,legend='auto')"
   ]
  },
  {
   "cell_type": "markdown",
   "id": "67f834a6",
   "metadata": {},
   "source": [
    "### We can observe from the above scatter plot that with increasing SkinThickness and Body mass index  , the chances of diabetes also increases."
   ]
  },
  {
   "cell_type": "code",
   "execution_count": null,
   "id": "3d96c6ff",
   "metadata": {},
   "outputs": [],
   "source": [
    "sns.scatterplot(data=diabetes, x=\"BMI_log\", y=\"Pregnancies\", hue=\"Outcome\", size=None ,legend='auto')"
   ]
  },
  {
   "cell_type": "markdown",
   "id": "a16b56bf",
   "metadata": {},
   "source": [
    "### From above it is observed that Diabetes mostly depends on Increase in BMI rate. As Diabetes mostly happend in 2 to 10 times pregnency."
   ]
  },
  {
   "cell_type": "code",
   "execution_count": null,
   "id": "ad5401d1",
   "metadata": {},
   "outputs": [],
   "source": [
    "sns.scatterplot(data=diabetes, x=\"BMI_log\", y=\"BloodPressure\", hue=\"Outcome\", size=None ,legend='auto')"
   ]
  },
  {
   "cell_type": "markdown",
   "id": "11673082",
   "metadata": {},
   "source": [
    "### We can observe from the above scatter plot that with increasing Blood Pressure and Body mass index  , the chances of diabetes also increases."
   ]
  },
  {
   "cell_type": "markdown",
   "id": "e46c28e1",
   "metadata": {},
   "source": [
    "## Perform correlation analysis. Visually explore it using a heat map."
   ]
  },
  {
   "cell_type": "code",
   "execution_count": null,
   "id": "a558b6cd",
   "metadata": {},
   "outputs": [],
   "source": [
    "diabetes.corr()"
   ]
  },
  {
   "cell_type": "code",
   "execution_count": null,
   "id": "48536cde",
   "metadata": {},
   "outputs": [],
   "source": [
    "plt.figure(figsize=(15,10))\n",
    "sns.heatmap(diabetes.corr(),annot=True,linewidths=.5,center=0,cbar=True,cmap=\"YlGnBu\")\n",
    "plt.show()"
   ]
  },
  {
   "cell_type": "markdown",
   "id": "62b7c52d",
   "metadata": {},
   "source": [
    "## Check the balance of the data by plotting the count of outcomes by their value. Describe your findings and plan future course of actions."
   ]
  },
  {
   "cell_type": "code",
   "execution_count": null,
   "id": "47a962bf",
   "metadata": {},
   "outputs": [],
   "source": [
    "# Lets divide the dataset in train and test data for model training and testing\n",
    "x = diabetes.drop(['Outcome'], axis=1)\n",
    "y = diabetes[['Outcome']]\n"
   ]
  },
  {
   "cell_type": "code",
   "execution_count": null,
   "id": "d1c2bc54",
   "metadata": {},
   "outputs": [],
   "source": [
    "# y.value_counts().plot.pie(autopct ='%.2f')\n",
    "colors = ['#5ba85f','#c360aa']  # '#7f67ca','#5ba85f','#c360aa'\n",
    "y.value_counts().plot(kind='pie',autopct='%2.1f%%',\n",
    "                explode = (0.10, 0), startangle=45, shadow=True, figsize = (5,4)) # explode will mark the highest\n",
    "plt.axis('equal')\n",
    "plt.title('Count of Outcome Variable\\n')\n",
    "plt.tight_layout()\n",
    "plt.show()"
   ]
  },
  {
   "cell_type": "code",
   "execution_count": null,
   "id": "882a835a",
   "metadata": {},
   "outputs": [],
   "source": [
    "sns.countplot(diabetes['Outcome'])"
   ]
  },
  {
   "cell_type": "code",
   "execution_count": null,
   "id": "570ab79b",
   "metadata": {},
   "outputs": [],
   "source": [
    "diabetes['Outcome'].value_counts()"
   ]
  },
  {
   "cell_type": "markdown",
   "id": "7c2f1986",
   "metadata": {},
   "source": [
    "### So we can see that the value of 1/positive is nearly half of value 0/negetive result.\n",
    "### So the dataset is Imbalanced.\n",
    "\n",
    "### Most machine learning algorithms work best when the number of samples in each class are about equal. This is because most algorithms are designed to maximize accuracy and reduce errors.\n",
    "\n",
    "### However, if the data set is imbalance then In such cases, we get a pretty high accuracy just by predicting the majority class, but we fail to capture the minority class, which is most often the point of creating the model in the first place.\n",
    "\n",
    "### One of the widely adopted class imbalance techniques for dealing with highly unbalanced datasets is called resampling. It consists of removing samples from the majority class (under-sampling) and/or adding more examples from the minority class (over-sampling).\n",
    "\n",
    "#### The simplest implementation of over-sampling is to duplicate random records from the minority class, which can cause overfitting.\n",
    "\n",
    "#### In under-sampling, the simplest technique involves removing random records from the majority class, which can cause loss of information.\n",
    "\n",
    "### There are many other techniques and python libraries like imbalance-learn, which help in tackling Imbalanced data set.\n",
    "\n",
    "### Here we are going to use Oversampling as the data is very low in quantity. Random undersampling can resulted in missing important data. \n",
    "\n"
   ]
  },
  {
   "cell_type": "code",
   "execution_count": null,
   "id": "0940268f",
   "metadata": {},
   "outputs": [],
   "source": [
    "from imblearn.over_sampling import RandomOverSampler\n",
    "ros = RandomOverSampler(sampling_strategy='not majority')\n",
    "x_res,y_res = ros.fit_resample(x,y)\n",
    "\n",
    "ax = y_res.value_counts().plot.pie(autopct ='%.2f')\n",
    "_ = ax.set_title('Over Sampling')"
   ]
  },
  {
   "cell_type": "markdown",
   "id": "14dbfbcf",
   "metadata": {},
   "source": [
    "### Now we can see that the Dataset is Balanced."
   ]
  },
  {
   "cell_type": "code",
   "execution_count": null,
   "id": "879c2d1b",
   "metadata": {},
   "outputs": [],
   "source": [
    "# Splitting Resampled dataset in train and test data\n",
    "x_train, x_test, y_train, y_test = train_test_split(x_res, y_res, test_size=0.30, random_state=1)"
   ]
  },
  {
   "cell_type": "code",
   "execution_count": null,
   "id": "9e69a778",
   "metadata": {},
   "outputs": [],
   "source": [
    "# Checking the shape\n",
    "print('shape of xtrain :', x_train.shape)\n",
    "print('shape of ytrain :', y_train.shape)\n",
    "print('shape of xtest :', x_test.shape)\n",
    "print('shape of ytest :', y_test.shape)"
   ]
  },
  {
   "cell_type": "code",
   "execution_count": null,
   "id": "7327b0b3",
   "metadata": {},
   "outputs": [],
   "source": [
    "x_train"
   ]
  },
  {
   "cell_type": "code",
   "execution_count": null,
   "id": "1a93ec10",
   "metadata": {},
   "outputs": [],
   "source": [
    "y_train"
   ]
  },
  {
   "cell_type": "code",
   "execution_count": null,
   "id": "23abd5e7",
   "metadata": {},
   "outputs": [],
   "source": [
    "# There seems to be a case of large number & small numbers - scaling / Normalization may need to be done\n",
    "\n",
    "from sklearn import preprocessing\n",
    "from sklearn.preprocessing import StandardScaler\n",
    "from sklearn.preprocessing import scale\n",
    "\n",
    "scaler = StandardScaler()\n",
    "scaler.fit(diabetes)\n",
    "print(scaler.mean_)\n",
    "scaled_diab = pd.DataFrame(scaler.transform(diabetes),columns = diabetes.columns)\n",
    "scaled_diab"
   ]
  },
  {
   "cell_type": "code",
   "execution_count": null,
   "id": "9c765ca3",
   "metadata": {},
   "outputs": [],
   "source": [
    "# Corelation analysis with Scaled data\n",
    "plt.figure(figsize=(16, 10))\n",
    "sns.heatmap(scaled_diab.corr(), annot=True)"
   ]
  },
  {
   "cell_type": "code",
   "execution_count": null,
   "id": "67812f83",
   "metadata": {},
   "outputs": [],
   "source": [
    "# scale the train and test data differently to prevent data leaking\n",
    "\n",
    "x_train_scaled = preprocessing.scale(x_train)\n",
    "x_test_scaled = preprocessing.scale(x_test)"
   ]
  },
  {
   "cell_type": "code",
   "execution_count": null,
   "id": "e6848b68",
   "metadata": {},
   "outputs": [],
   "source": [
    "# Calculate the p-value of logistic regression from statsmodel for feature selection\n",
    "# Logistic regression pvalue is used to test the null hypothesis and its coefficient is equal to zero. \n",
    "#The lowest pvalue is <0.05 and this lowest value indicates that you can reject the null hypothesis which is good for model.\n",
    "\n",
    "from scipy.stats import norm\n",
    "def logit_pvalue(model, x_test_scaled):\n",
    "   \n",
    "    p = model.predict_proba(x)\n",
    "    n1 = len(p)\n",
    "    m1 = len(model.coef_[0]) + 1\n",
    "    coefs = np.concatenate([model.intercept_, model.coef_[0]])\n",
    "    x_full = np.matrix(np.insert(np.array(x), 0, 1, axis = 1))\n",
    "    answ = np.zeros((m1, m1))\n",
    "    for i in range(n1):\n",
    "        answ = answ + np.dot(np.transpose(x_full[i, :]), x_full[i, :]) * p[i,1] * p[i, 0]\n",
    "    vcov = np.linalg.inv(np.matrix(answ))\n",
    "    se = np.sqrt(np.diag(vcov))\n",
    "    t1 =  coefs/se  \n",
    "    p = (1 - norm.cdf(abs(t1))) * 2\n",
    "    return p\n",
    "\n",
    "\n",
    "\n",
    "#print(logit_pvalue(model, x_train_scaled))\n",
    "\n",
    "import statsmodels.api as sd\n",
    "sd_model = sd.Logit(y_train, sd.add_constant(x_train_scaled)).fit(disp=0)\n",
    "print(sd_model.pvalues)\n",
    "sd_model.summary()"
   ]
  },
  {
   "cell_type": "markdown",
   "id": "365aceca",
   "metadata": {},
   "source": [
    "### So, from above observation we can see that p-value is less than 0.05 so we can reject the null-hypothesis."
   ]
  },
  {
   "cell_type": "markdown",
   "id": "0877536f",
   "metadata": {},
   "source": [
    "### Here we are going to build Logistic Regression Model and a Random Forest model. As we know that Ensemble techniques like Decision Trees are more capable with dealing un-balanced dataset.\n",
    "\n",
    "### Then we will compare the 2 models accuracy with KNN Classification model.\n",
    "\n",
    "### Cross-validation is primarily used in applied machine learning to estimate the skill of a machine learning model on unseen data. That is, to use a limited sample in order to estimate how the model is expected to perform in general when used to make predictions on data not used during the training of the model.\n",
    "\n",
    "### Here we will use K-fold Cross validation because our dataset is imbalanced. If accuracy is used to measure the goodness of a model, a model which classifies all testing samples into “0” will have an excellent accuracy , but obviously, this model won’t provide any valuable information for us. So we will test randomly with K-fold and see the accuracy of the model.\n",
    "\n",
    "\n",
    "## Creating a LogisticRegression model to predict Heart_attack  "
   ]
  },
  {
   "cell_type": "code",
   "execution_count": null,
   "id": "7b054cb6",
   "metadata": {},
   "outputs": [],
   "source": [
    "# Fit/Train the model with scaled data\n",
    "\n",
    "model1 = LogisticRegression()\n",
    "model1.fit(x_train_scaled, y_train)\n",
    "\n",
    "# Predicting result from the model \n",
    "y_predict = model1.predict(x_test_scaled)\n",
    "train_model_score = model1.score(x_train_scaled, y_train)\n",
    "test_model_score = model1.score(x_test_scaled, y_test)\n",
    "print(\"LogisticRegression Model Efficiency Percentage in training data = \",train_model_score.mean()*100)\n",
    "print(\"LogisticRegression Model Efficiency Percentage in testing data = \",test_model_score.mean()*100)"
   ]
  },
  {
   "cell_type": "markdown",
   "id": "a6f1e71d",
   "metadata": {},
   "source": [
    "### Cross Validation with KFold"
   ]
  },
  {
   "cell_type": "code",
   "execution_count": null,
   "id": "e61dbe86",
   "metadata": {},
   "outputs": [],
   "source": [
    "from sklearn.model_selection import cross_val_score\n",
    "from sklearn import model_selection\n",
    "from sklearn.model_selection import KFold\n",
    "\n",
    "# Cross Validation with K-fold\n",
    "kfold = model_selection.KFold(n_splits=10, random_state=7,shuffle=True)\n",
    "results = model_selection.cross_val_score(model1, x, y, cv=kfold)\n",
    "print(\"Cross validation score of LogisticRegression Model with K-fold : \" ,results.mean()*100)"
   ]
  },
  {
   "cell_type": "code",
   "execution_count": null,
   "id": "a8d53030",
   "metadata": {},
   "outputs": [],
   "source": [
    "#Print the Intercept and Co-efficients of the model\n",
    "\n",
    "print(\"The value of intercept for Logistic Regression Model is := \\n\",model1.intercept_)\n",
    "print(\"The values of co-eficient for Logistic Regression Model are:= \\n\",model1.coef_)"
   ]
  },
  {
   "cell_type": "code",
   "execution_count": null,
   "id": "f2e8cd27",
   "metadata": {},
   "outputs": [],
   "source": [
    "# calculate Confusion Matrix\n",
    "# IMPORTANT: first argument is true values, second argument is predicted values\n",
    "# this produces a 2x2 numpy array (matrix)\n",
    "cm = confusion_matrix(y_test, y_predict)\n",
    "disp = ConfusionMatrixDisplay(confusion_matrix=cm)\n",
    "disp.plot()\n",
    "plt.show()"
   ]
  },
  {
   "cell_type": "markdown",
   "id": "614c0f47",
   "metadata": {},
   "source": [
    "### Analyzing the confusion matrix\n",
    "\n",
    "True Positives (TP):  The model correctly predicted about  Diabetes for 104 person\n",
    "\n",
    "True Negatives (TN):  The model correctly predicted about NO Diabetes for 102 person\n",
    "\n",
    "False Positives (FP): The model incorrectly predicted that people do have Diabetes (a \"Type I error\") for 20 person\n",
    "\n",
    "False Negatives (FN): The model incorrectly predicted that people don't have Diabetes (a \"Type II error\") for 42 person"
   ]
  },
  {
   "cell_type": "markdown",
   "id": "485b6a2d",
   "metadata": {},
   "source": [
    "### To assess how well a logistic regression model fits a dataset, we can look at the following two metrics:\n",
    "\n",
    "Sensitivity: The probability that the model predicts a positive outcome for an observation when indeed the outcome is positive. This is also called the “true positive rate.”\n",
    "\n",
    "Specificity: The probability that the model predicts a negative outcome for an observation when indeed the outcome is negative. This is also called the “true negative rate.”\n",
    "\n",
    "#### One way to visualize these two metrics is by creating a ROC curve, which stands for “receiver operating characteristic” curve.\n",
    "\n",
    "    This is a plot that displays the sensitivity along the y-axis and (1 – specificity) along the x-axis.\n",
    "\n",
    "#### One way to quantify how well the logistic regression model does at classifying data is to calculate AUC, which stands for “area under curve.”\n",
    "\n",
    "    The closer the AUC is to 1, the better the model."
   ]
  },
  {
   "cell_type": "code",
   "execution_count": null,
   "id": "603196d3",
   "metadata": {},
   "outputs": [],
   "source": [
    "#calculate ROC and AUC of LR model\n",
    "fpr, tpr, _ = metrics.roc_curve(y_test,  y_predict)\n",
    "auc = metrics.roc_auc_score(y_test, y_predict)\n",
    "\n",
    "#print AUC score\n",
    "print(\"\\nScore of Area under Curve / AUC Score for the model is:= \",auc*100)\n",
    "print(\"\\n\")\n",
    "\n",
    "#create ROC curve\n",
    "plt.figure(figsize=(10,8))\n",
    "plt.plot(fpr,tpr,label=\"AUC=\"+str(auc),color=\"blue\")\n",
    "plt.ylabel('True Positive Rate/Sensitivity')\n",
    "plt.xlabel('False Positive Rate/Specificity')\n",
    "plt.title(\"Graph of Sensitivity vs Specificity\\n\")\n",
    "plt.legend(loc=4)\n",
    "plt.show()"
   ]
  },
  {
   "cell_type": "markdown",
   "id": "5cacb030",
   "metadata": {},
   "source": [
    "### As we know that the closer the AUC is to 1, the better the model. Here AUC is around 76-77% for the model so we can interprete the model, is good to predict Diabetes.\n",
    "\n",
    "### The more that the ROC curve hugs the top left corner of the plot, the better the model does at predicting the chances of Heart-attack .So here we can say that the model is good in predictions."
   ]
  },
  {
   "cell_type": "code",
   "execution_count": null,
   "id": "83172fc7",
   "metadata": {},
   "outputs": [],
   "source": [
    "## Calculating the Standard-errors for logistic regression / Cross Validation\n",
    "from sklearn.metrics import mean_squared_error\n",
    "from sklearn.metrics import mean_absolute_error\n",
    "from sklearn.metrics import mean_squared_log_error\n",
    "\n",
    "print(\"mean_absolute_error value for this model is = \",mean_absolute_error(y_test, y_predict))\n",
    "print(\"mean_squared_error value for this model is = \",mean_squared_error(y_test, y_predict))\n",
    "print(\"mean_squared_log_error value for this model is = \",mean_squared_log_error(y_test, y_predict))"
   ]
  },
  {
   "cell_type": "markdown",
   "id": "fcfdd980",
   "metadata": {},
   "source": [
    "\n",
    "### @@@ Creating a model to predict Diabetes with Random Forest Classifier\n",
    "\n",
    "#### Random Forest : Its an ensemble technique where only Decision Trees are used as models & here Randomness can be introduced (by bootstraping or creating random data from original for Bagging) in each DTree model."
   ]
  },
  {
   "cell_type": "code",
   "execution_count": null,
   "id": "86b65486",
   "metadata": {},
   "outputs": [],
   "source": [
    "# Hyper-parameter tuning by GridSearchCV to get the best hyper-parametrs for RandomForestClassifier\n",
    "\n",
    "from sklearn.model_selection import GridSearchCV\n",
    "\n",
    "parameters = {'bootstrap': [True],\n",
    " 'max_depth': [10, 20, 30, 40, 50],\n",
    " 'max_features': ['auto', 'sqrt'],\n",
    " 'min_samples_leaf': [1, 2, 4, 8],\n",
    " 'n_estimators': [100]}\n",
    "\n",
    "\n",
    "clf = GridSearchCV(RandomForestClassifier(), parameters, cv = 5, verbose = 2, n_jobs= 4)\n",
    "clf.fit(x_train_scaled, y_train)\n",
    "\n",
    "clf.best_params_"
   ]
  },
  {
   "cell_type": "code",
   "execution_count": null,
   "id": "2f750dc4",
   "metadata": {},
   "outputs": [],
   "source": [
    "# Here we will use the hyper-parametrs found from above\n",
    "rfcl = RandomForestClassifier(bootstrap=True,max_depth= 30,max_features='auto',min_samples_leaf= 1,n_estimators=100)\n",
    "rfcl = rfcl.fit(x_train_scaled, y_train)\n",
    "pred_RF = rfcl.predict(x_test_scaled)\n",
    "acc_RF = accuracy_score(y_test, pred_RF)\n",
    "print(\"Random Forest Model Efficiency Percentage is = \",acc_RF.mean()*100)"
   ]
  },
  {
   "cell_type": "markdown",
   "id": "f4d30b2f",
   "metadata": {},
   "source": [
    "### So,the Random Forest Model will predict heart-attack with 76% accuracy."
   ]
  },
  {
   "cell_type": "markdown",
   "id": "d97fe0fe",
   "metadata": {},
   "source": [
    "\n",
    "### @@@ Creating a model to predict Diabetes with K Nearest Neighbour / KNN Classifier\n",
    "\n",
    "#### KNN : It classifies the data point on how its neighbor is classified. KNN classifies the new data points based on the similarity measure of the earlier stored data points."
   ]
  },
  {
   "cell_type": "code",
   "execution_count": null,
   "id": "222db084",
   "metadata": {},
   "outputs": [],
   "source": [
    "#Fitting K-NN classifier to the training set  \n",
    "from sklearn.neighbors import KNeighborsClassifier  \n",
    "classifier= KNeighborsClassifier(n_neighbors=5, metric='minkowski', p=2 )  \n",
    "KNN_Model = classifier.fit(x_train_scaled, y_train)\n",
    "pred_KNN = KNN_Model.predict(x_test_scaled)\n",
    "acc_KNN = accuracy_score(y_test, pred_KNN)\n",
    "print(\"KNN Model Efficiency Percentage is = \",acc_KNN.mean()*100)"
   ]
  },
  {
   "cell_type": "markdown",
   "id": "dff0bee4",
   "metadata": {},
   "source": [
    "### So,the K Nearest Neighbour Model will predict heart-attack with 75% accuracy."
   ]
  },
  {
   "cell_type": "markdown",
   "id": "3be7e384",
   "metadata": {},
   "source": [
    "## Comparison of Model efficiencies with Classification Report"
   ]
  },
  {
   "cell_type": "code",
   "execution_count": null,
   "id": "484673ec",
   "metadata": {},
   "outputs": [],
   "source": [
    "# It will give summary of all scores for LR model efficiency\n",
    "print(classification_report(y_test, y_predict))"
   ]
  },
  {
   "cell_type": "code",
   "execution_count": null,
   "id": "fe8b5bcd",
   "metadata": {},
   "outputs": [],
   "source": [
    "print(\"Percentage of Model precision : \",precision_score(y_test,y_predict).mean()*100) \n",
    "print(\"Recall Score of the model : \",recall_score(y_test,y_predict).mean()*100)\n",
    "print(\"f1 Score of the model : \",f1_score(y_test,y_predict).mean()*100)"
   ]
  },
  {
   "cell_type": "code",
   "execution_count": null,
   "id": "6dc4f624",
   "metadata": {},
   "outputs": [],
   "source": [
    "# It will give summary of all scores for RF model efficiency\n",
    "print(classification_report(y_test, pred_RF))"
   ]
  },
  {
   "cell_type": "code",
   "execution_count": null,
   "id": "4be6a358",
   "metadata": {},
   "outputs": [],
   "source": [
    "print(\"Percentage of Model precision : \",precision_score(y_test,pred_RF).mean()*100) \n",
    "print(\"Recall Score of the model : \",recall_score(y_test,pred_RF).mean()*100)\n",
    "print(\"f1 Score of the model : \",f1_score(y_test,pred_RF).mean()*100)"
   ]
  },
  {
   "cell_type": "code",
   "execution_count": null,
   "id": "7e542cc7",
   "metadata": {},
   "outputs": [],
   "source": [
    "# It will give summary of all scores for RF model efficiency\n",
    "print(classification_report(y_test, pred_KNN))"
   ]
  },
  {
   "cell_type": "code",
   "execution_count": null,
   "id": "882b39cf",
   "metadata": {},
   "outputs": [],
   "source": [
    "print(\"Percentage of Model precision : \",precision_score(y_test,pred_KNN).mean()*100) \n",
    "print(\"Recall Score of the model : \",recall_score(y_test,pred_KNN).mean()*100)\n",
    "print(\"f1 Score of the model : \",f1_score(y_test,pred_KNN).mean()*100)"
   ]
  },
  {
   "cell_type": "code",
   "execution_count": null,
   "id": "9cbe9f15",
   "metadata": {},
   "outputs": [],
   "source": [
    "### Comparing Accuracy Scores of Various used models\n",
    "\n",
    "print(\"LogisticRegression Model Efficiency Percentage in training data = \",train_model_score.mean()*100)\n",
    "print(\"LogisticRegression Model Efficiency Percentage in testing data = \",test_model_score.mean()*100)\n",
    "print(\"Random Forest Model Efficiency Percentage is = \",acc_RF.mean()*100)\n",
    "print(\"K Nearest Neighbour Model Efficiency Percentage is = \",acc_KNN.mean()*100)"
   ]
  },
  {
   "cell_type": "markdown",
   "id": "10dc938f",
   "metadata": {},
   "source": [
    "### So, We can consider that the most efficient model is the Random Forest Model with efficiency of around 77%.\n",
    "### When we observe the f1 score and Recall Score of every model, we can see that its nearly 75% that means the model will predict 75% times the True Positive. Which is very good but can be better.It is due to unbalanced dataset which we saw before."
   ]
  },
  {
   "cell_type": "code",
   "execution_count": null,
   "id": "47b48036",
   "metadata": {},
   "outputs": [],
   "source": [
    "### Let's Save the Modified Dataset of Diabetes for Visualization through a Dashboard created in Tableau Public\n",
    "# diabetes.to_excel(\"D:/Software/DATA SCIENCE/All Courses/Capstone Projects/Data-Science-Capstone-Projects-master/Project 2/Healthcare - Diabetes/diabetes.xlsx\")"
   ]
  },
  {
   "cell_type": "code",
   "execution_count": null,
   "id": "3be5ee45",
   "metadata": {},
   "outputs": [],
   "source": []
  }
 ],
 "metadata": {
  "kernelspec": {
   "display_name": "Python 3",
   "language": "python",
   "name": "python3"
  },
  "language_info": {
   "codemirror_mode": {
    "name": "ipython",
    "version": 3
   },
   "file_extension": ".py",
   "mimetype": "text/x-python",
   "name": "python",
   "nbconvert_exporter": "python",
   "pygments_lexer": "ipython3",
   "version": "3.9.16"
  }
 },
 "nbformat": 4,
 "nbformat_minor": 5
}
